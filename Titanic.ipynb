{
  "nbformat": 4,
  "nbformat_minor": 0,
  "metadata": {
    "kernelspec": {
      "display_name": "Python 3",
      "language": "python",
      "name": "python3"
    },
    "language_info": {
      "codemirror_mode": {
        "name": "ipython",
        "version": 3
      },
      "file_extension": ".py",
      "mimetype": "text/x-python",
      "name": "python",
      "nbconvert_exporter": "python",
      "pygments_lexer": "ipython3",
      "version": "3.7.3"
    },
    "colab": {
      "name": "Titanic",
      "provenance": [],
      "collapsed_sections": [],
      "toc_visible": true
    }
  },
  "cells": [
    {
      "cell_type": "markdown",
      "metadata": {
        "id": "Ca70W87SBYjw",
        "colab_type": "text"
      },
      "source": [
        "# My score will go on..."
      ]
    },
    {
      "cell_type": "markdown",
      "metadata": {
        "id": "9U1ellDp0aNn",
        "colab_type": "text"
      },
      "source": [
        "## 1 Import Data and necessary packages"
      ]
    },
    {
      "cell_type": "code",
      "metadata": {
        "id": "-ngav9I9Jp7g",
        "colab_type": "code",
        "colab": {}
      },
      "source": [
        "# import packages\n",
        "import pandas as pd\n",
        "import numpy as np\n",
        "from sklearn.model_selection import train_test_split\n",
        "from sklearn import preprocessing\n",
        "from sklearn.model_selection import GridSearchCV\n",
        "from sklearn.ensemble import RandomForestClassifier\n",
        "from sklearn.metrics import accuracy_score\n",
        "import matplotlib.pyplot as plt\n",
        "%matplotlib inline\n",
        "pd.set_option('display.max_rows', None)"
      ],
      "execution_count": 0,
      "outputs": []
    },
    {
      "cell_type": "code",
      "metadata": {
        "id": "GRfCAIvsJp7k",
        "colab_type": "code",
        "colab": {}
      },
      "source": [
        "# Load the Data\n",
        "train = pd.read_csv(\"train.csv\")\n",
        "test = pd.read_csv(\"test.csv\")"
      ],
      "execution_count": 0,
      "outputs": []
    },
    {
      "cell_type": "code",
      "metadata": {
        "id": "8Ao4YMXzplxG",
        "colab_type": "code",
        "colab": {}
      },
      "source": [
        "# create DataFrame with PassengerID column to use later on\n",
        "data_test_id = test[['PassengerId']].copy()\n",
        "\n",
        "# create the new datasets and drop columns in them\n",
        "# that do no effect on survival\n",
        "data_train = train.drop(['PassengerId', 'Name', 'Ticket'], axis=1)\n",
        "data_test = test.drop(['PassengerId', 'Name', 'Ticket'], axis=1)"
      ],
      "execution_count": 0,
      "outputs": []
    },
    {
      "cell_type": "markdown",
      "metadata": {
        "id": "rCeI7k6M3cUF",
        "colab_type": "text"
      },
      "source": [
        "##2 Getting information about Data"
      ]
    },
    {
      "cell_type": "code",
      "metadata": {
        "id": "t37yexDLgdWG",
        "colab_type": "code",
        "outputId": "7dcff0c5-1512-4a0f-af81-1a95b49fb9e2",
        "colab": {
          "base_uri": "https://localhost:8080/",
          "height": 289
        }
      },
      "source": [
        "# Look at the Data and see that we have to\n",
        "# get rid of categorical and null values \n",
        "data_train.info()"
      ],
      "execution_count": 0,
      "outputs": [
        {
          "output_type": "stream",
          "text": [
            "<class 'pandas.core.frame.DataFrame'>\n",
            "RangeIndex: 891 entries, 0 to 890\n",
            "Data columns (total 9 columns):\n",
            " #   Column    Non-Null Count  Dtype  \n",
            "---  ------    --------------  -----  \n",
            " 0   Survived  891 non-null    int64  \n",
            " 1   Pclass    891 non-null    int64  \n",
            " 2   Sex       891 non-null    object \n",
            " 3   Age       714 non-null    float64\n",
            " 4   SibSp     891 non-null    int64  \n",
            " 5   Parch     891 non-null    int64  \n",
            " 6   Fare      891 non-null    float64\n",
            " 7   Cabin     204 non-null    object \n",
            " 8   Embarked  889 non-null    object \n",
            "dtypes: float64(2), int64(4), object(3)\n",
            "memory usage: 62.8+ KB\n"
          ],
          "name": "stdout"
        }
      ]
    },
    {
      "cell_type": "markdown",
      "metadata": {
        "id": "EU6iXpQ-_RrF",
        "colab_type": "text"
      },
      "source": [
        "##3 Handling null data\n"
      ]
    },
    {
      "cell_type": "markdown",
      "metadata": {
        "id": "w8dMuPP1_XkX",
        "colab_type": "text"
      },
      "source": [
        "###3.1 Remove data that can not be filled"
      ]
    },
    {
      "cell_type": "code",
      "metadata": {
        "id": "Mp_bRLVKrWHu",
        "colab_type": "code",
        "outputId": "f1b13488-0356-4891-940d-b82620a2fb6a",
        "colab": {
          "base_uri": "https://localhost:8080/",
          "height": 421
        }
      },
      "source": [
        "data_train[(data_train['Fare'] == 0) & (data_train['Cabin'].isnull())]"
      ],
      "execution_count": 5,
      "outputs": [
        {
          "output_type": "execute_result",
          "data": {
            "text/html": [
              "<div>\n",
              "<style scoped>\n",
              "    .dataframe tbody tr th:only-of-type {\n",
              "        vertical-align: middle;\n",
              "    }\n",
              "\n",
              "    .dataframe tbody tr th {\n",
              "        vertical-align: top;\n",
              "    }\n",
              "\n",
              "    .dataframe thead th {\n",
              "        text-align: right;\n",
              "    }\n",
              "</style>\n",
              "<table border=\"1\" class=\"dataframe\">\n",
              "  <thead>\n",
              "    <tr style=\"text-align: right;\">\n",
              "      <th></th>\n",
              "      <th>Survived</th>\n",
              "      <th>Pclass</th>\n",
              "      <th>Sex</th>\n",
              "      <th>Age</th>\n",
              "      <th>SibSp</th>\n",
              "      <th>Parch</th>\n",
              "      <th>Fare</th>\n",
              "      <th>Cabin</th>\n",
              "      <th>Embarked</th>\n",
              "    </tr>\n",
              "  </thead>\n",
              "  <tbody>\n",
              "    <tr>\n",
              "      <th>179</th>\n",
              "      <td>0</td>\n",
              "      <td>3</td>\n",
              "      <td>male</td>\n",
              "      <td>36.0</td>\n",
              "      <td>0</td>\n",
              "      <td>0</td>\n",
              "      <td>0.0</td>\n",
              "      <td>NaN</td>\n",
              "      <td>S</td>\n",
              "    </tr>\n",
              "    <tr>\n",
              "      <th>271</th>\n",
              "      <td>1</td>\n",
              "      <td>3</td>\n",
              "      <td>male</td>\n",
              "      <td>25.0</td>\n",
              "      <td>0</td>\n",
              "      <td>0</td>\n",
              "      <td>0.0</td>\n",
              "      <td>NaN</td>\n",
              "      <td>S</td>\n",
              "    </tr>\n",
              "    <tr>\n",
              "      <th>277</th>\n",
              "      <td>0</td>\n",
              "      <td>2</td>\n",
              "      <td>male</td>\n",
              "      <td>NaN</td>\n",
              "      <td>0</td>\n",
              "      <td>0</td>\n",
              "      <td>0.0</td>\n",
              "      <td>NaN</td>\n",
              "      <td>S</td>\n",
              "    </tr>\n",
              "    <tr>\n",
              "      <th>302</th>\n",
              "      <td>0</td>\n",
              "      <td>3</td>\n",
              "      <td>male</td>\n",
              "      <td>19.0</td>\n",
              "      <td>0</td>\n",
              "      <td>0</td>\n",
              "      <td>0.0</td>\n",
              "      <td>NaN</td>\n",
              "      <td>S</td>\n",
              "    </tr>\n",
              "    <tr>\n",
              "      <th>413</th>\n",
              "      <td>0</td>\n",
              "      <td>2</td>\n",
              "      <td>male</td>\n",
              "      <td>NaN</td>\n",
              "      <td>0</td>\n",
              "      <td>0</td>\n",
              "      <td>0.0</td>\n",
              "      <td>NaN</td>\n",
              "      <td>S</td>\n",
              "    </tr>\n",
              "    <tr>\n",
              "      <th>466</th>\n",
              "      <td>0</td>\n",
              "      <td>2</td>\n",
              "      <td>male</td>\n",
              "      <td>NaN</td>\n",
              "      <td>0</td>\n",
              "      <td>0</td>\n",
              "      <td>0.0</td>\n",
              "      <td>NaN</td>\n",
              "      <td>S</td>\n",
              "    </tr>\n",
              "    <tr>\n",
              "      <th>481</th>\n",
              "      <td>0</td>\n",
              "      <td>2</td>\n",
              "      <td>male</td>\n",
              "      <td>NaN</td>\n",
              "      <td>0</td>\n",
              "      <td>0</td>\n",
              "      <td>0.0</td>\n",
              "      <td>NaN</td>\n",
              "      <td>S</td>\n",
              "    </tr>\n",
              "    <tr>\n",
              "      <th>597</th>\n",
              "      <td>0</td>\n",
              "      <td>3</td>\n",
              "      <td>male</td>\n",
              "      <td>49.0</td>\n",
              "      <td>0</td>\n",
              "      <td>0</td>\n",
              "      <td>0.0</td>\n",
              "      <td>NaN</td>\n",
              "      <td>S</td>\n",
              "    </tr>\n",
              "    <tr>\n",
              "      <th>633</th>\n",
              "      <td>0</td>\n",
              "      <td>1</td>\n",
              "      <td>male</td>\n",
              "      <td>NaN</td>\n",
              "      <td>0</td>\n",
              "      <td>0</td>\n",
              "      <td>0.0</td>\n",
              "      <td>NaN</td>\n",
              "      <td>S</td>\n",
              "    </tr>\n",
              "    <tr>\n",
              "      <th>674</th>\n",
              "      <td>0</td>\n",
              "      <td>2</td>\n",
              "      <td>male</td>\n",
              "      <td>NaN</td>\n",
              "      <td>0</td>\n",
              "      <td>0</td>\n",
              "      <td>0.0</td>\n",
              "      <td>NaN</td>\n",
              "      <td>S</td>\n",
              "    </tr>\n",
              "    <tr>\n",
              "      <th>732</th>\n",
              "      <td>0</td>\n",
              "      <td>2</td>\n",
              "      <td>male</td>\n",
              "      <td>NaN</td>\n",
              "      <td>0</td>\n",
              "      <td>0</td>\n",
              "      <td>0.0</td>\n",
              "      <td>NaN</td>\n",
              "      <td>S</td>\n",
              "    </tr>\n",
              "    <tr>\n",
              "      <th>822</th>\n",
              "      <td>0</td>\n",
              "      <td>1</td>\n",
              "      <td>male</td>\n",
              "      <td>38.0</td>\n",
              "      <td>0</td>\n",
              "      <td>0</td>\n",
              "      <td>0.0</td>\n",
              "      <td>NaN</td>\n",
              "      <td>S</td>\n",
              "    </tr>\n",
              "  </tbody>\n",
              "</table>\n",
              "</div>"
            ],
            "text/plain": [
              "     Survived  Pclass   Sex   Age  SibSp  Parch  Fare Cabin Embarked\n",
              "179         0       3  male  36.0      0      0   0.0   NaN        S\n",
              "271         1       3  male  25.0      0      0   0.0   NaN        S\n",
              "277         0       2  male   NaN      0      0   0.0   NaN        S\n",
              "302         0       3  male  19.0      0      0   0.0   NaN        S\n",
              "413         0       2  male   NaN      0      0   0.0   NaN        S\n",
              "466         0       2  male   NaN      0      0   0.0   NaN        S\n",
              "481         0       2  male   NaN      0      0   0.0   NaN        S\n",
              "597         0       3  male  49.0      0      0   0.0   NaN        S\n",
              "633         0       1  male   NaN      0      0   0.0   NaN        S\n",
              "674         0       2  male   NaN      0      0   0.0   NaN        S\n",
              "732         0       2  male   NaN      0      0   0.0   NaN        S\n",
              "822         0       1  male  38.0      0      0   0.0   NaN        S"
            ]
          },
          "metadata": {
            "tags": []
          },
          "execution_count": 5
        }
      ]
    },
    {
      "cell_type": "markdown",
      "metadata": {
        "id": "7INhyySe_REB",
        "colab_type": "text"
      },
      "source": [
        ""
      ]
    },
    {
      "cell_type": "code",
      "metadata": {
        "id": "S4BZLBwDxYq5",
        "colab_type": "code",
        "colab": {}
      },
      "source": [
        "index_to_drop = data_train[(data_train['Fare'] == 0) & (data_train['Cabin'].isnull())].index"
      ],
      "execution_count": 0,
      "outputs": []
    },
    {
      "cell_type": "code",
      "metadata": {
        "id": "WAqf0vaE-SKy",
        "colab_type": "code",
        "colab": {}
      },
      "source": [
        "data_train.drop(index_to_drop, inplace=True)"
      ],
      "execution_count": 0,
      "outputs": []
    },
    {
      "cell_type": "markdown",
      "metadata": {
        "id": "2CQ90UWYsJ1s",
        "colab_type": "text"
      },
      "source": [
        "###3.2 Trasform deck description"
      ]
    },
    {
      "cell_type": "code",
      "metadata": {
        "id": "ZCnxKH8EjZPr",
        "colab_type": "code",
        "outputId": "cf61d541-20e7-456e-f942-dbdb52fa50be",
        "colab": {
          "base_uri": "https://localhost:8080/",
          "height": 102
        }
      },
      "source": [
        "data_train['Cabin'][data_train['Cabin'].isna() == False] = data_train['Cabin'].str[0]"
      ],
      "execution_count": 8,
      "outputs": [
        {
          "output_type": "stream",
          "text": [
            "/usr/local/lib/python3.6/dist-packages/ipykernel_launcher.py:1: SettingWithCopyWarning: \n",
            "A value is trying to be set on a copy of a slice from a DataFrame\n",
            "\n",
            "See the caveats in the documentation: https://pandas.pydata.org/pandas-docs/stable/user_guide/indexing.html#returning-a-view-versus-a-copy\n",
            "  \"\"\"Entry point for launching an IPython kernel.\n"
          ],
          "name": "stderr"
        }
      ]
    },
    {
      "cell_type": "code",
      "metadata": {
        "id": "WuBfappqjqXw",
        "colab_type": "code",
        "outputId": "a94352fc-7dbe-45e0-9ba7-253eb3cd8e12",
        "colab": {
          "base_uri": "https://localhost:8080/",
          "height": 170
        }
      },
      "source": [
        "data_train['Cabin'].value_counts()"
      ],
      "execution_count": 0,
      "outputs": [
        {
          "output_type": "execute_result",
          "data": {
            "text/plain": [
              "C    59\n",
              "B    47\n",
              "D    33\n",
              "E    32\n",
              "A    15\n",
              "F    13\n",
              "G     4\n",
              "T     1\n",
              "Name: Cabin, dtype: int64"
            ]
          },
          "metadata": {
            "tags": []
          },
          "execution_count": 173
        }
      ]
    },
    {
      "cell_type": "markdown",
      "metadata": {
        "id": "Cz_lIyakATPn",
        "colab_type": "text"
      },
      "source": [
        "###3.3. First class passengers"
      ]
    },
    {
      "cell_type": "code",
      "metadata": {
        "id": "B1MicZk_ATtU",
        "colab_type": "code",
        "outputId": "3a84a7b8-ba4c-4d0d-da49-d190ab4c23db",
        "colab": {
          "base_uri": "https://localhost:8080/",
          "height": 289
        }
      },
      "source": [
        "data_train[data_train['Pclass'] == 1].info()"
      ],
      "execution_count": 0,
      "outputs": [
        {
          "output_type": "stream",
          "text": [
            "<class 'pandas.core.frame.DataFrame'>\n",
            "Int64Index: 214 entries, 1 to 889\n",
            "Data columns (total 9 columns):\n",
            " #   Column    Non-Null Count  Dtype  \n",
            "---  ------    --------------  -----  \n",
            " 0   Survived  214 non-null    int64  \n",
            " 1   Pclass    214 non-null    int64  \n",
            " 2   Sex       214 non-null    object \n",
            " 3   Age       185 non-null    float64\n",
            " 4   SibSp     214 non-null    int64  \n",
            " 5   Parch     214 non-null    int64  \n",
            " 6   Fare      214 non-null    float64\n",
            " 7   Cabin     176 non-null    object \n",
            " 8   Embarked  212 non-null    object \n",
            "dtypes: float64(2), int64(4), object(3)\n",
            "memory usage: 16.7+ KB\n"
          ],
          "name": "stdout"
        }
      ]
    },
    {
      "cell_type": "code",
      "metadata": {
        "id": "hBm6GrutFtGC",
        "colab_type": "code",
        "outputId": "76a17da2-0fa3-4a4b-af57-9bf3c07284dd",
        "colab": {
          "base_uri": "https://localhost:8080/",
          "height": 297
        }
      },
      "source": [
        "data_train[data_train['Pclass'] == 1].describe()"
      ],
      "execution_count": 0,
      "outputs": [
        {
          "output_type": "execute_result",
          "data": {
            "text/html": [
              "<div>\n",
              "<style scoped>\n",
              "    .dataframe tbody tr th:only-of-type {\n",
              "        vertical-align: middle;\n",
              "    }\n",
              "\n",
              "    .dataframe tbody tr th {\n",
              "        vertical-align: top;\n",
              "    }\n",
              "\n",
              "    .dataframe thead th {\n",
              "        text-align: right;\n",
              "    }\n",
              "</style>\n",
              "<table border=\"1\" class=\"dataframe\">\n",
              "  <thead>\n",
              "    <tr style=\"text-align: right;\">\n",
              "      <th></th>\n",
              "      <th>Survived</th>\n",
              "      <th>Pclass</th>\n",
              "      <th>Age</th>\n",
              "      <th>SibSp</th>\n",
              "      <th>Parch</th>\n",
              "      <th>Fare</th>\n",
              "    </tr>\n",
              "  </thead>\n",
              "  <tbody>\n",
              "    <tr>\n",
              "      <th>count</th>\n",
              "      <td>214.000000</td>\n",
              "      <td>214.0</td>\n",
              "      <td>185.000000</td>\n",
              "      <td>214.000000</td>\n",
              "      <td>214.000000</td>\n",
              "      <td>214.000000</td>\n",
              "    </tr>\n",
              "    <tr>\n",
              "      <th>mean</th>\n",
              "      <td>0.635514</td>\n",
              "      <td>1.0</td>\n",
              "      <td>38.234703</td>\n",
              "      <td>0.420561</td>\n",
              "      <td>0.359813</td>\n",
              "      <td>84.941180</td>\n",
              "    </tr>\n",
              "    <tr>\n",
              "      <th>std</th>\n",
              "      <td>0.482414</td>\n",
              "      <td>0.0</td>\n",
              "      <td>14.843017</td>\n",
              "      <td>0.613424</td>\n",
              "      <td>0.696384</td>\n",
              "      <td>78.320169</td>\n",
              "    </tr>\n",
              "    <tr>\n",
              "      <th>min</th>\n",
              "      <td>0.000000</td>\n",
              "      <td>1.0</td>\n",
              "      <td>0.920000</td>\n",
              "      <td>0.000000</td>\n",
              "      <td>0.000000</td>\n",
              "      <td>0.000000</td>\n",
              "    </tr>\n",
              "    <tr>\n",
              "      <th>25%</th>\n",
              "      <td>0.000000</td>\n",
              "      <td>1.0</td>\n",
              "      <td>27.000000</td>\n",
              "      <td>0.000000</td>\n",
              "      <td>0.000000</td>\n",
              "      <td>31.000000</td>\n",
              "    </tr>\n",
              "    <tr>\n",
              "      <th>50%</th>\n",
              "      <td>1.000000</td>\n",
              "      <td>1.0</td>\n",
              "      <td>37.000000</td>\n",
              "      <td>0.000000</td>\n",
              "      <td>0.000000</td>\n",
              "      <td>61.277100</td>\n",
              "    </tr>\n",
              "    <tr>\n",
              "      <th>75%</th>\n",
              "      <td>1.000000</td>\n",
              "      <td>1.0</td>\n",
              "      <td>49.000000</td>\n",
              "      <td>1.000000</td>\n",
              "      <td>0.000000</td>\n",
              "      <td>93.500000</td>\n",
              "    </tr>\n",
              "    <tr>\n",
              "      <th>max</th>\n",
              "      <td>1.000000</td>\n",
              "      <td>1.0</td>\n",
              "      <td>80.000000</td>\n",
              "      <td>3.000000</td>\n",
              "      <td>4.000000</td>\n",
              "      <td>512.329200</td>\n",
              "    </tr>\n",
              "  </tbody>\n",
              "</table>\n",
              "</div>"
            ],
            "text/plain": [
              "         Survived  Pclass         Age       SibSp       Parch        Fare\n",
              "count  214.000000   214.0  185.000000  214.000000  214.000000  214.000000\n",
              "mean     0.635514     1.0   38.234703    0.420561    0.359813   84.941180\n",
              "std      0.482414     0.0   14.843017    0.613424    0.696384   78.320169\n",
              "min      0.000000     1.0    0.920000    0.000000    0.000000    0.000000\n",
              "25%      0.000000     1.0   27.000000    0.000000    0.000000   31.000000\n",
              "50%      1.000000     1.0   37.000000    0.000000    0.000000   61.277100\n",
              "75%      1.000000     1.0   49.000000    1.000000    0.000000   93.500000\n",
              "max      1.000000     1.0   80.000000    3.000000    4.000000  512.329200"
            ]
          },
          "metadata": {
            "tags": []
          },
          "execution_count": 11
        }
      ]
    },
    {
      "cell_type": "code",
      "metadata": {
        "id": "DA0bude-FGkr",
        "colab_type": "code",
        "colab": {}
      },
      "source": [
        "def surviving_on_deck(dataset, passenger_class, passenger_gender, is_survived):\n",
        "    \n",
        "    \"\"\"\n",
        "    dataset - a dataset name to aggreagate ang plot\n",
        "    passenger_class - a class when a passenger bought his(er) ticket\n",
        "    passenger_gender - a gender of a passenger\n",
        "    is_survived - 0 or 1, a mark that shows that a passenger survived or died\n",
        "    \"\"\"\n",
        "\n",
        "    data_to_plot = dataset[\n",
        "           (dataset['Pclass'] == passenger_class) & \n",
        "           (dataset['Sex'] == passenger_gender) &\n",
        "           (dataset['Survived'] == is_survived) &\n",
        "           (dataset['Cabin'].isna()== False) &\n",
        "           (dataset['Age'].isnull() == False)\n",
        "           ].pivot_table(values=['Survived', 'Age', 'Fare'], \n",
        "                         index=['Cabin'], \n",
        "                         aggfunc={'Survived': 'count', \n",
        "                                  'Age': 'mean', \n",
        "                                  'Fare': 'mean'})\n",
        "    \n",
        "    if is_survived == 1:\n",
        "        plot_title = f'Ditribution of the survived \\\n",
        "        {passenger_class}th class passengers ({passenger_gender})'\n",
        "    elif is_survived == 0:\n",
        "        plot_title = f'Ditribution of the died \\\n",
        "        {passenger_class}th class passengers ({passenger_gender})'\n",
        "    \n",
        "    plt.rcParams[\"figure.figsize\"] = [15,5]\n",
        "    bar_plot = data_to_plot.plot.bar(rot=0, title=plot_title)\n",
        "\n",
        "    agg_data = dataset[\n",
        "           (dataset['Pclass'] == passenger_class) & \n",
        "           (dataset['Sex'] == passenger_gender) &\n",
        "           (dataset['Survived'] == is_survived) &\n",
        "           (dataset['Cabin'].isna()== False) &\n",
        "           (dataset['Age'].isnull() == False)\n",
        "           ].pivot_table(values=['Survived', 'Age', 'Fare'], \n",
        "                         index=['Cabin'], \n",
        "                         aggfunc={'Survived': 'count', \n",
        "                                  'Age': 'mean', \n",
        "                                  'Fare': 'mean'})\n",
        "    return agg_data"
      ],
      "execution_count": 0,
      "outputs": []
    },
    {
      "cell_type": "code",
      "metadata": {
        "id": "nqx-1L3OJD_A",
        "colab_type": "code",
        "outputId": "e7dc442e-ce06-422b-df99-c574dc8220ea",
        "colab": {
          "base_uri": "https://localhost:8080/",
          "height": 568
        }
      },
      "source": [
        "surviving_on_deck(data_train, 1, 'male', 1)"
      ],
      "execution_count": 11,
      "outputs": [
        {
          "output_type": "execute_result",
          "data": {
            "text/html": [
              "<div>\n",
              "<style scoped>\n",
              "    .dataframe tbody tr th:only-of-type {\n",
              "        vertical-align: middle;\n",
              "    }\n",
              "\n",
              "    .dataframe tbody tr th {\n",
              "        vertical-align: top;\n",
              "    }\n",
              "\n",
              "    .dataframe thead th {\n",
              "        text-align: right;\n",
              "    }\n",
              "</style>\n",
              "<table border=\"1\" class=\"dataframe\">\n",
              "  <thead>\n",
              "    <tr style=\"text-align: right;\">\n",
              "      <th></th>\n",
              "      <th>Age</th>\n",
              "      <th>Fare</th>\n",
              "      <th>Survived</th>\n",
              "    </tr>\n",
              "    <tr>\n",
              "      <th>Cabin</th>\n",
              "      <th></th>\n",
              "      <th></th>\n",
              "      <th></th>\n",
              "    </tr>\n",
              "  </thead>\n",
              "  <tbody>\n",
              "    <tr>\n",
              "      <th>A</th>\n",
              "      <td>42.833333</td>\n",
              "      <td>45.131250</td>\n",
              "      <td>6</td>\n",
              "    </tr>\n",
              "    <tr>\n",
              "      <th>B</th>\n",
              "      <td>33.250000</td>\n",
              "      <td>190.304700</td>\n",
              "      <td>8</td>\n",
              "    </tr>\n",
              "    <tr>\n",
              "      <th>C</th>\n",
              "      <td>32.365000</td>\n",
              "      <td>72.573438</td>\n",
              "      <td>8</td>\n",
              "    </tr>\n",
              "    <tr>\n",
              "      <th>D</th>\n",
              "      <td>35.400000</td>\n",
              "      <td>64.385020</td>\n",
              "      <td>5</td>\n",
              "    </tr>\n",
              "    <tr>\n",
              "      <th>E</th>\n",
              "      <td>37.500000</td>\n",
              "      <td>33.361462</td>\n",
              "      <td>8</td>\n",
              "    </tr>\n",
              "  </tbody>\n",
              "</table>\n",
              "</div>"
            ],
            "text/plain": [
              "             Age        Fare  Survived\n",
              "Cabin                                 \n",
              "A      42.833333   45.131250         6\n",
              "B      33.250000  190.304700         8\n",
              "C      32.365000   72.573438         8\n",
              "D      35.400000   64.385020         5\n",
              "E      37.500000   33.361462         8"
            ]
          },
          "metadata": {
            "tags": []
          },
          "execution_count": 11
        },
        {
          "output_type": "display_data",
          "data": {
            "image/png": "[encoded data removed]",
            "text/plain": [
              "<Figure size 1080x360 with 1 Axes>"
            ]
          },
          "metadata": {
            "tags": [],
            "needs_background": "light"
          }
        }
      ]
    },
    {
      "cell_type": "code",
      "metadata": {
        "id": "DfXQ4_xyIGeo",
        "colab_type": "code",
        "outputId": "82b587b5-75c8-4eb0-973e-995cdecfbe03",
        "colab": {
          "base_uri": "https://localhost:8080/",
          "height": 599
        }
      },
      "source": [
        "surviving_on_deck(data_train, 1, 'male', 0)"
      ],
      "execution_count": 0,
      "outputs": [
        {
          "output_type": "execute_result",
          "data": {
            "text/html": [
              "<div>\n",
              "<style scoped>\n",
              "    .dataframe tbody tr th:only-of-type {\n",
              "        vertical-align: middle;\n",
              "    }\n",
              "\n",
              "    .dataframe tbody tr th {\n",
              "        vertical-align: top;\n",
              "    }\n",
              "\n",
              "    .dataframe thead th {\n",
              "        text-align: right;\n",
              "    }\n",
              "</style>\n",
              "<table border=\"1\" class=\"dataframe\">\n",
              "  <thead>\n",
              "    <tr style=\"text-align: right;\">\n",
              "      <th></th>\n",
              "      <th>Age</th>\n",
              "      <th>Fare</th>\n",
              "      <th>Survived</th>\n",
              "    </tr>\n",
              "    <tr>\n",
              "      <th>Cabin</th>\n",
              "      <th></th>\n",
              "      <th></th>\n",
              "      <th></th>\n",
              "    </tr>\n",
              "  </thead>\n",
              "  <tbody>\n",
              "    <tr>\n",
              "      <th>A</th>\n",
              "      <td>46.600000</td>\n",
              "      <td>31.194160</td>\n",
              "      <td>5</td>\n",
              "    </tr>\n",
              "    <tr>\n",
              "      <th>B</th>\n",
              "      <td>45.181818</td>\n",
              "      <td>62.331818</td>\n",
              "      <td>11</td>\n",
              "    </tr>\n",
              "    <tr>\n",
              "      <th>C</th>\n",
              "      <td>40.694444</td>\n",
              "      <td>99.121989</td>\n",
              "      <td>18</td>\n",
              "    </tr>\n",
              "    <tr>\n",
              "      <th>D</th>\n",
              "      <td>41.285714</td>\n",
              "      <td>59.613086</td>\n",
              "      <td>7</td>\n",
              "    </tr>\n",
              "    <tr>\n",
              "      <th>E</th>\n",
              "      <td>51.571429</td>\n",
              "      <td>48.460714</td>\n",
              "      <td>7</td>\n",
              "    </tr>\n",
              "    <tr>\n",
              "      <th>T</th>\n",
              "      <td>45.000000</td>\n",
              "      <td>35.500000</td>\n",
              "      <td>1</td>\n",
              "    </tr>\n",
              "  </tbody>\n",
              "</table>\n",
              "</div>"
            ],
            "text/plain": [
              "             Age       Fare  Survived\n",
              "Cabin                                \n",
              "A      46.600000  31.194160         5\n",
              "B      45.181818  62.331818        11\n",
              "C      40.694444  99.121989        18\n",
              "D      41.285714  59.613086         7\n",
              "E      51.571429  48.460714         7\n",
              "T      45.000000  35.500000         1"
            ]
          },
          "metadata": {
            "tags": []
          },
          "execution_count": 33
        },
        {
          "output_type": "display_data",
          "data": {
            "image/png": "[encoded data removed]",
            "text/plain": [
              "<Figure size 1080x360 with 1 Axes>"
            ]
          },
          "metadata": {
            "tags": [],
            "needs_background": "light"
          }
        }
      ]
    },
    {
      "cell_type": "code",
      "metadata": {
        "id": "dmRrOFw6ydBW",
        "colab_type": "code",
        "outputId": "974f4b46-5e53-4a8b-ad3a-f8491137320a",
        "colab": {
          "base_uri": "https://localhost:8080/",
          "height": 102
        }
      },
      "source": [
        "data_train['Cabin'][data_train['Cabin'] == 'T'] = 'C'"
      ],
      "execution_count": 0,
      "outputs": [
        {
          "output_type": "stream",
          "text": [
            "/usr/local/lib/python3.6/dist-packages/ipykernel_launcher.py:1: SettingWithCopyWarning: \n",
            "A value is trying to be set on a copy of a slice from a DataFrame\n",
            "\n",
            "See the caveats in the documentation: https://pandas.pydata.org/pandas-docs/stable/user_guide/indexing.html#returning-a-view-versus-a-copy\n",
            "  \"\"\"Entry point for launching an IPython kernel.\n"
          ],
          "name": "stderr"
        }
      ]
    },
    {
      "cell_type": "code",
      "metadata": {
        "id": "bC_zG3ypLlqj",
        "colab_type": "code",
        "outputId": "e077c5ee-8103-4e00-91a9-f20fd9f9fd70",
        "colab": {
          "base_uri": "https://localhost:8080/",
          "height": 568
        }
      },
      "source": [
        "surviving_on_deck(data_train, 1, 'female', 1)"
      ],
      "execution_count": 0,
      "outputs": [
        {
          "output_type": "execute_result",
          "data": {
            "text/html": [
              "<div>\n",
              "<style scoped>\n",
              "    .dataframe tbody tr th:only-of-type {\n",
              "        vertical-align: middle;\n",
              "    }\n",
              "\n",
              "    .dataframe tbody tr th {\n",
              "        vertical-align: top;\n",
              "    }\n",
              "\n",
              "    .dataframe thead th {\n",
              "        text-align: right;\n",
              "    }\n",
              "</style>\n",
              "<table border=\"1\" class=\"dataframe\">\n",
              "  <thead>\n",
              "    <tr style=\"text-align: right;\">\n",
              "      <th></th>\n",
              "      <th>Age</th>\n",
              "      <th>Fare</th>\n",
              "      <th>Survived</th>\n",
              "    </tr>\n",
              "    <tr>\n",
              "      <th>Cabin</th>\n",
              "      <th></th>\n",
              "      <th></th>\n",
              "      <th></th>\n",
              "    </tr>\n",
              "  </thead>\n",
              "  <tbody>\n",
              "    <tr>\n",
              "      <th>A</th>\n",
              "      <td>48.000000</td>\n",
              "      <td>39.600000</td>\n",
              "      <td>1</td>\n",
              "    </tr>\n",
              "    <tr>\n",
              "      <th>B</th>\n",
              "      <td>31.153846</td>\n",
              "      <td>114.621635</td>\n",
              "      <td>26</td>\n",
              "    </tr>\n",
              "    <tr>\n",
              "      <th>C</th>\n",
              "      <td>35.090909</td>\n",
              "      <td>122.372723</td>\n",
              "      <td>22</td>\n",
              "    </tr>\n",
              "    <tr>\n",
              "      <th>D</th>\n",
              "      <td>41.000000</td>\n",
              "      <td>67.688340</td>\n",
              "      <td>15</td>\n",
              "    </tr>\n",
              "    <tr>\n",
              "      <th>E</th>\n",
              "      <td>33.444444</td>\n",
              "      <td>81.376389</td>\n",
              "      <td>9</td>\n",
              "    </tr>\n",
              "  </tbody>\n",
              "</table>\n",
              "</div>"
            ],
            "text/plain": [
              "             Age        Fare  Survived\n",
              "Cabin                                 \n",
              "A      48.000000   39.600000         1\n",
              "B      31.153846  114.621635        26\n",
              "C      35.090909  122.372723        22\n",
              "D      41.000000   67.688340        15\n",
              "E      33.444444   81.376389         9"
            ]
          },
          "metadata": {
            "tags": []
          },
          "execution_count": 34
        },
        {
          "output_type": "display_data",
          "data": {
            "image/png": "[encoded data removed]",
            "text/plain": [
              "<Figure size 1080x360 with 1 Axes>"
            ]
          },
          "metadata": {
            "tags": [],
            "needs_background": "light"
          }
        }
      ]
    },
    {
      "cell_type": "code",
      "metadata": {
        "id": "wiFIdve0LluT",
        "colab_type": "code",
        "outputId": "d3262df8-272c-4afb-cfad-d4b1b19c5cde",
        "colab": {
          "base_uri": "https://localhost:8080/",
          "height": 444
        }
      },
      "source": [
        "surviving_on_deck(data_train, 1, 'female', 0)"
      ],
      "execution_count": 0,
      "outputs": [
        {
          "output_type": "execute_result",
          "data": {
            "text/html": [
              "<div>\n",
              "<style scoped>\n",
              "    .dataframe tbody tr th:only-of-type {\n",
              "        vertical-align: middle;\n",
              "    }\n",
              "\n",
              "    .dataframe tbody tr th {\n",
              "        vertical-align: top;\n",
              "    }\n",
              "\n",
              "    .dataframe thead th {\n",
              "        text-align: right;\n",
              "    }\n",
              "</style>\n",
              "<table border=\"1\" class=\"dataframe\">\n",
              "  <thead>\n",
              "    <tr style=\"text-align: right;\">\n",
              "      <th></th>\n",
              "      <th>Age</th>\n",
              "      <th>Fare</th>\n",
              "      <th>Survived</th>\n",
              "    </tr>\n",
              "    <tr>\n",
              "      <th>Cabin</th>\n",
              "      <th></th>\n",
              "      <th></th>\n",
              "      <th></th>\n",
              "    </tr>\n",
              "  </thead>\n",
              "  <tbody>\n",
              "    <tr>\n",
              "      <th>C</th>\n",
              "      <td>25.666667</td>\n",
              "      <td>110.604167</td>\n",
              "      <td>3</td>\n",
              "    </tr>\n",
              "  </tbody>\n",
              "</table>\n",
              "</div>"
            ],
            "text/plain": [
              "             Age        Fare  Survived\n",
              "Cabin                                 \n",
              "C      25.666667  110.604167         3"
            ]
          },
          "metadata": {
            "tags": []
          },
          "execution_count": 35
        },
        {
          "output_type": "display_data",
          "data": {
            "image/png": "[encoded data removed]",
            "text/plain": [
              "<Figure size 1080x360 with 1 Axes>"
            ]
          },
          "metadata": {
            "tags": [],
            "needs_background": "light"
          }
        }
      ]
    },
    {
      "cell_type": "code",
      "metadata": {
        "id": "qBCwcePaRk9f",
        "colab_type": "code",
        "colab": {}
      },
      "source": [
        "def filling_nan_cabin(dataset, passenger_class, passenger_gender, is_survived, deck):\n",
        "    \n",
        "    \"\"\"\n",
        "    dataset - a dataset name to aggreagate ang plot\n",
        "    passenger_class - a class when a passenger bought his(er) ticket\n",
        "    passenger_gender - a gender of a passenger\n",
        "    is_survived - 0 or 1, a mark that shows that a passenger survived or died\n",
        "    deck - a deck letter\n",
        "    \"\"\"\n",
        "\n",
        "    dataset['Cabin'][\n",
        "                    (dataset['Pclass'] == passenger_class) &\n",
        "                    (dataset['Sex'] == passenger_gender) & \n",
        "                    (dataset['Survived'] == is_survived) &\n",
        "                    (dataset['Cabin'].isna() == True)] = deck"
      ],
      "execution_count": 0,
      "outputs": []
    },
    {
      "cell_type": "code",
      "metadata": {
        "id": "Zsy4OrPoRlGx",
        "colab_type": "code",
        "outputId": "0c0c5375-8639-496e-e164-14bea3ec907b",
        "colab": {
          "base_uri": "https://localhost:8080/",
          "height": 102
        }
      },
      "source": [
        "filling_nan_cabin(data_train, 1, 'female', 0, 'C')\n",
        "filling_nan_cabin(data_train, 1, 'female', 1, 'B')\n",
        "filling_nan_cabin(data_train, 1, 'male', 0, 'C')\n",
        "filling_nan_cabin(data_train, 1, 'male', 1, 'A')"
      ],
      "execution_count": 0,
      "outputs": [
        {
          "output_type": "stream",
          "text": [
            "/usr/local/lib/python3.6/dist-packages/ipykernel_launcher.py:15: SettingWithCopyWarning: \n",
            "A value is trying to be set on a copy of a slice from a DataFrame\n",
            "\n",
            "See the caveats in the documentation: https://pandas.pydata.org/pandas-docs/stable/user_guide/indexing.html#returning-a-view-versus-a-copy\n",
            "  from ipykernel import kernelapp as app\n"
          ],
          "name": "stderr"
        }
      ]
    },
    {
      "cell_type": "code",
      "metadata": {
        "id": "WqkRaUAYzK5G",
        "colab_type": "code",
        "outputId": "7dee9dc1-23a8-46f2-d7c0-e695fb5dcf44",
        "colab": {
          "base_uri": "https://localhost:8080/",
          "height": 34
        }
      },
      "source": [
        "data_train['Age'][\n",
        "                  (data_train['Pclass'] == 1) & \n",
        "                  (data_train['Survived'] == 1) & \n",
        "                  (data_train['Sex'] == 'male')\n",
        "                  ].mean()"
      ],
      "execution_count": 0,
      "outputs": [
        {
          "output_type": "execute_result",
          "data": {
            "text/plain": [
              "36.248000000000005"
            ]
          },
          "metadata": {
            "tags": []
          },
          "execution_count": 49
        }
      ]
    },
    {
      "cell_type": "code",
      "metadata": {
        "id": "4RZ3RMfpYhxS",
        "colab_type": "code",
        "outputId": "2705b724-2192-4679-8ae5-810a465e57ca",
        "colab": {
          "base_uri": "https://localhost:8080/",
          "height": 34
        }
      },
      "source": [
        "data_train['Age'][\n",
        "                  (data_train['Pclass'] == 1) & \n",
        "                  (data_train['Survived'] == 0) & \n",
        "                  (data_train['Sex'] == 'male')\n",
        "                  ].mean()"
      ],
      "execution_count": 0,
      "outputs": [
        {
          "output_type": "execute_result",
          "data": {
            "text/plain": [
              "44.58196721311475"
            ]
          },
          "metadata": {
            "tags": []
          },
          "execution_count": 51
        }
      ]
    },
    {
      "cell_type": "code",
      "metadata": {
        "id": "ZazlKXYjYh0_",
        "colab_type": "code",
        "outputId": "4bd2ee1b-1ab7-4026-ac8d-3468cb75f452",
        "colab": {
          "base_uri": "https://localhost:8080/",
          "height": 34
        }
      },
      "source": [
        "data_train['Age'][\n",
        "                  (data_train['Pclass'] == 1) & \n",
        "                  (data_train['Survived'] == 1) & \n",
        "                  (data_train['Sex'] == 'female')\n",
        "                  ].mean()"
      ],
      "execution_count": 0,
      "outputs": [
        {
          "output_type": "execute_result",
          "data": {
            "text/plain": [
              "34.9390243902439"
            ]
          },
          "metadata": {
            "tags": []
          },
          "execution_count": 52
        }
      ]
    },
    {
      "cell_type": "code",
      "metadata": {
        "id": "7E0-amJyYwGF",
        "colab_type": "code",
        "outputId": "22190f5a-97af-42ac-8481-fae97f09f159",
        "colab": {
          "base_uri": "https://localhost:8080/",
          "height": 34
        }
      },
      "source": [
        "data_train['Age'][\n",
        "                  (data_train['Pclass'] == 1) & \n",
        "                  (data_train['Survived'] == 0) & \n",
        "                  (data_train['Sex'] == 'female')\n",
        "                  ].mean()"
      ],
      "execution_count": 0,
      "outputs": [
        {
          "output_type": "execute_result",
          "data": {
            "text/plain": [
              "25.666666666666668"
            ]
          },
          "metadata": {
            "tags": []
          },
          "execution_count": 53
        }
      ]
    },
    {
      "cell_type": "code",
      "metadata": {
        "id": "yCMQfh2OYwJI",
        "colab_type": "code",
        "outputId": "f2d2eb0d-49ca-462e-9e44-6dbc5b899310",
        "colab": {
          "base_uri": "https://localhost:8080/",
          "height": 323
        }
      },
      "source": [
        "data_train['Age'][\n",
        "                  (data_train['Pclass'] == 1) & \n",
        "                  (data_train['Survived'] == 1) &\n",
        "                  (data_train['Age'].isnull()) & \n",
        "                  (data_train['Sex'] == 'male')\n",
        "                 ] = 36.24\n",
        "\n",
        "data_train['Age'][\n",
        "                  (data_train['Pclass'] == 1) & \n",
        "                  (data_train['Survived'] == 0) &\n",
        "                  (data_train['Age'].isnull()) & \n",
        "                  (data_train['Sex'] == 'male') \n",
        "                  ] = 44.58\n",
        "\n",
        "data_train['Age'][\n",
        "                  (data_train['Pclass'] == 1) & \n",
        "                  (data_train['Survived'] == 1) & \n",
        "                  (data_train['Age'].isnull()) &\n",
        "                  (data_train['Sex'] == 'female')\n",
        "                  ] = 34.93\n",
        "\n",
        "data_train['Age'][\n",
        "                  (data_train['Pclass'] == 1) & \n",
        "                  (data_train['Survived'] == 0) & \n",
        "                  (data_train['Age'].isnull()) &\n",
        "                  (data_train['Sex'] == 'female')\n",
        "                  ] = 25.66"
      ],
      "execution_count": 0,
      "outputs": [
        {
          "output_type": "stream",
          "text": [
            "/usr/local/lib/python3.6/dist-packages/ipykernel_launcher.py:6: SettingWithCopyWarning: \n",
            "A value is trying to be set on a copy of a slice from a DataFrame\n",
            "\n",
            "See the caveats in the documentation: https://pandas.pydata.org/pandas-docs/stable/user_guide/indexing.html#returning-a-view-versus-a-copy\n",
            "  \n",
            "/usr/local/lib/python3.6/dist-packages/ipykernel_launcher.py:13: SettingWithCopyWarning: \n",
            "A value is trying to be set on a copy of a slice from a DataFrame\n",
            "\n",
            "See the caveats in the documentation: https://pandas.pydata.org/pandas-docs/stable/user_guide/indexing.html#returning-a-view-versus-a-copy\n",
            "  del sys.path[0]\n",
            "/usr/local/lib/python3.6/dist-packages/ipykernel_launcher.py:20: SettingWithCopyWarning: \n",
            "A value is trying to be set on a copy of a slice from a DataFrame\n",
            "\n",
            "See the caveats in the documentation: https://pandas.pydata.org/pandas-docs/stable/user_guide/indexing.html#returning-a-view-versus-a-copy\n",
            "/usr/local/lib/python3.6/dist-packages/ipykernel_launcher.py:27: SettingWithCopyWarning: \n",
            "A value is trying to be set on a copy of a slice from a DataFrame\n",
            "\n",
            "See the caveats in the documentation: https://pandas.pydata.org/pandas-docs/stable/user_guide/indexing.html#returning-a-view-versus-a-copy\n"
          ],
          "name": "stderr"
        }
      ]
    },
    {
      "cell_type": "code",
      "metadata": {
        "id": "Ta2CCKdkzK9k",
        "colab_type": "code",
        "outputId": "ac004fa8-18dc-4883-fab8-1cba8ef4ebd7",
        "colab": {
          "base_uri": "https://localhost:8080/",
          "height": 68
        }
      },
      "source": [
        "data_train['Fare'][\n",
        "                   (data_train['Pclass'] == 1) &\n",
        "                   (data_train['Embarked'].isnull() == True)]"
      ],
      "execution_count": 0,
      "outputs": [
        {
          "output_type": "execute_result",
          "data": {
            "text/plain": [
              "61     80.0\n",
              "829    80.0\n",
              "Name: Fare, dtype: float64"
            ]
          },
          "metadata": {
            "tags": []
          },
          "execution_count": 56
        }
      ]
    },
    {
      "cell_type": "code",
      "metadata": {
        "id": "x4fqSd9GbMkp",
        "colab_type": "code",
        "outputId": "b225b775-a45e-4331-b6fa-ef136dfa4c37",
        "colab": {
          "base_uri": "https://localhost:8080/",
          "height": 173
        }
      },
      "source": [
        "data_train[\n",
        "           (data_train['Pclass'] == 1) &\n",
        "           (data_train['Embarked'].isnull() == False)\n",
        "           ].pivot_table(\n",
        "                        values =['Fare'],\n",
        "                        index = ['Embarked']\n",
        "           )"
      ],
      "execution_count": 0,
      "outputs": [
        {
          "output_type": "execute_result",
          "data": {
            "text/html": [
              "<div>\n",
              "<style scoped>\n",
              "    .dataframe tbody tr th:only-of-type {\n",
              "        vertical-align: middle;\n",
              "    }\n",
              "\n",
              "    .dataframe tbody tr th {\n",
              "        vertical-align: top;\n",
              "    }\n",
              "\n",
              "    .dataframe thead th {\n",
              "        text-align: right;\n",
              "    }\n",
              "</style>\n",
              "<table border=\"1\" class=\"dataframe\">\n",
              "  <thead>\n",
              "    <tr style=\"text-align: right;\">\n",
              "      <th></th>\n",
              "      <th>Fare</th>\n",
              "    </tr>\n",
              "    <tr>\n",
              "      <th>Embarked</th>\n",
              "      <th></th>\n",
              "    </tr>\n",
              "  </thead>\n",
              "  <tbody>\n",
              "    <tr>\n",
              "      <th>C</th>\n",
              "      <td>104.718529</td>\n",
              "    </tr>\n",
              "    <tr>\n",
              "      <th>Q</th>\n",
              "      <td>90.000000</td>\n",
              "    </tr>\n",
              "    <tr>\n",
              "      <th>S</th>\n",
              "      <td>70.364862</td>\n",
              "    </tr>\n",
              "  </tbody>\n",
              "</table>\n",
              "</div>"
            ],
            "text/plain": [
              "                Fare\n",
              "Embarked            \n",
              "C         104.718529\n",
              "Q          90.000000\n",
              "S          70.364862"
            ]
          },
          "metadata": {
            "tags": []
          },
          "execution_count": 59
        }
      ]
    },
    {
      "cell_type": "code",
      "metadata": {
        "id": "Tkx3ZU_AbMoi",
        "colab_type": "code",
        "outputId": "d97dd520-ff8d-4c4a-a771-4cc80c44c328",
        "colab": {
          "base_uri": "https://localhost:8080/",
          "height": 102
        }
      },
      "source": [
        "data_train['Embarked'][\n",
        "                  (data_train['Pclass'] == 1) & \n",
        "                  (data_train['Embarked'].isnull())\n",
        "                  ] = 'S'"
      ],
      "execution_count": 0,
      "outputs": [
        {
          "output_type": "stream",
          "text": [
            "/usr/local/lib/python3.6/dist-packages/ipykernel_launcher.py:4: SettingWithCopyWarning: \n",
            "A value is trying to be set on a copy of a slice from a DataFrame\n",
            "\n",
            "See the caveats in the documentation: https://pandas.pydata.org/pandas-docs/stable/user_guide/indexing.html#returning-a-view-versus-a-copy\n",
            "  after removing the cwd from sys.path.\n"
          ],
          "name": "stderr"
        }
      ]
    },
    {
      "cell_type": "code",
      "metadata": {
        "id": "cTrJGYxOAT98",
        "colab_type": "code",
        "outputId": "018671c7-0386-4d87-f9e5-78bf220e82aa",
        "colab": {
          "base_uri": "https://localhost:8080/",
          "height": 289
        }
      },
      "source": [
        "data_train[data_train['Pclass'] == 1].info()"
      ],
      "execution_count": 0,
      "outputs": [
        {
          "output_type": "stream",
          "text": [
            "<class 'pandas.core.frame.DataFrame'>\n",
            "Int64Index: 214 entries, 1 to 889\n",
            "Data columns (total 9 columns):\n",
            " #   Column    Non-Null Count  Dtype  \n",
            "---  ------    --------------  -----  \n",
            " 0   Survived  214 non-null    int64  \n",
            " 1   Pclass    214 non-null    int64  \n",
            " 2   Sex       214 non-null    object \n",
            " 3   Age       214 non-null    float64\n",
            " 4   SibSp     214 non-null    int64  \n",
            " 5   Parch     214 non-null    int64  \n",
            " 6   Fare      214 non-null    float64\n",
            " 7   Cabin     214 non-null    object \n",
            " 8   Embarked  214 non-null    object \n",
            "dtypes: float64(2), int64(4), object(3)\n",
            "memory usage: 16.7+ KB\n"
          ],
          "name": "stdout"
        }
      ]
    },
    {
      "cell_type": "markdown",
      "metadata": {
        "id": "DQK_TYQFuVu4",
        "colab_type": "text"
      },
      "source": [
        "###3.4. Second class passengers"
      ]
    },
    {
      "cell_type": "code",
      "metadata": {
        "id": "bFnTpUBMu3C-",
        "colab_type": "code",
        "outputId": "c1db7f9d-8e6a-4edb-f790-a125c72a7949",
        "colab": {
          "base_uri": "https://localhost:8080/",
          "height": 289
        }
      },
      "source": [
        "data_train[data_train['Pclass'] == 2].info()"
      ],
      "execution_count": 0,
      "outputs": [
        {
          "output_type": "stream",
          "text": [
            "<class 'pandas.core.frame.DataFrame'>\n",
            "Int64Index: 178 entries, 9 to 886\n",
            "Data columns (total 9 columns):\n",
            " #   Column    Non-Null Count  Dtype  \n",
            "---  ------    --------------  -----  \n",
            " 0   Survived  178 non-null    int64  \n",
            " 1   Pclass    178 non-null    int64  \n",
            " 2   Sex       178 non-null    object \n",
            " 3   Age       173 non-null    float64\n",
            " 4   SibSp     178 non-null    int64  \n",
            " 5   Parch     178 non-null    int64  \n",
            " 6   Fare      178 non-null    float64\n",
            " 7   Cabin     16 non-null     object \n",
            " 8   Embarked  178 non-null    object \n",
            "dtypes: float64(2), int64(4), object(3)\n",
            "memory usage: 13.9+ KB\n"
          ],
          "name": "stdout"
        }
      ]
    },
    {
      "cell_type": "code",
      "metadata": {
        "id": "I7sqhHhNEHPc",
        "colab_type": "code",
        "outputId": "0ce82fbe-bfda-443f-da9e-de1c9c23666a",
        "colab": {
          "base_uri": "https://localhost:8080/",
          "height": 173
        }
      },
      "source": [
        "data_train[(data_train['Pclass'] == 2) & (data_train['Cabin'].isna()== False)].pivot_table(values=['Fare'], index=['Cabin'])"
      ],
      "execution_count": 0,
      "outputs": [
        {
          "output_type": "execute_result",
          "data": {
            "text/html": [
              "<div>\n",
              "<style scoped>\n",
              "    .dataframe tbody tr th:only-of-type {\n",
              "        vertical-align: middle;\n",
              "    }\n",
              "\n",
              "    .dataframe tbody tr th {\n",
              "        vertical-align: top;\n",
              "    }\n",
              "\n",
              "    .dataframe thead th {\n",
              "        text-align: right;\n",
              "    }\n",
              "</style>\n",
              "<table border=\"1\" class=\"dataframe\">\n",
              "  <thead>\n",
              "    <tr style=\"text-align: right;\">\n",
              "      <th></th>\n",
              "      <th>Fare</th>\n",
              "    </tr>\n",
              "    <tr>\n",
              "      <th>Cabin</th>\n",
              "      <th></th>\n",
              "    </tr>\n",
              "  </thead>\n",
              "  <tbody>\n",
              "    <tr>\n",
              "      <th>D</th>\n",
              "      <td>22.685192</td>\n",
              "    </tr>\n",
              "    <tr>\n",
              "      <th>E</th>\n",
              "      <td>11.073529</td>\n",
              "    </tr>\n",
              "    <tr>\n",
              "      <th>F</th>\n",
              "      <td>25.286407</td>\n",
              "    </tr>\n",
              "  </tbody>\n",
              "</table>\n",
              "</div>"
            ],
            "text/plain": [
              "            Fare\n",
              "Cabin           \n",
              "D      22.685192\n",
              "E      11.073529\n",
              "F      25.286407"
            ]
          },
          "metadata": {
            "tags": []
          },
          "execution_count": 95
        }
      ]
    },
    {
      "cell_type": "code",
      "metadata": {
        "id": "ZXbuRm3dKIqF",
        "colab_type": "code",
        "outputId": "f3d9d99a-8389-4acf-a4e2-81835d74c620",
        "colab": {
          "base_uri": "https://localhost:8080/",
          "height": 336
        }
      },
      "source": [
        "D_deck_class_2 = pd.DataFrame(data_train['Fare'][(data_train['Pclass'] == 2) & (data_train['Cabin'] == 'D')].value_counts())\n",
        "plt.rcParams[\"figure.figsize\"] = [10,5]\n",
        "ax = D_deck_class_2.plot.bar(rot=0, title='Fare dispertion on D deck')"
      ],
      "execution_count": 0,
      "outputs": [
        {
          "output_type": "display_data",
          "data": {
            "image/png": "[encoded data removed]",
            "text/plain": [
              "<Figure size 720x360 with 1 Axes>"
            ]
          },
          "metadata": {
            "tags": [],
            "needs_background": "light"
          }
        }
      ]
    },
    {
      "cell_type": "code",
      "metadata": {
        "id": "M9vh28VdKRe2",
        "colab_type": "code",
        "outputId": "483fc576-5848-4fa9-d338-4505881110df",
        "colab": {
          "base_uri": "https://localhost:8080/",
          "height": 336
        }
      },
      "source": [
        "E_deck_class_2 = pd.DataFrame(data_train['Fare'][(data_train['Pclass'] == 2) & (data_train['Cabin'] == 'E')].value_counts())\n",
        "plt.rcParams[\"figure.figsize\"] = [10, 5]\n",
        "ax = E_deck_class_2.plot.bar(rot=0, title='Fare dispertion on E deck')"
      ],
      "execution_count": 0,
      "outputs": [
        {
          "output_type": "display_data",
          "data": {
            "image/png": "[encoded data removed]",
            "text/plain": [
              "<Figure size 720x360 with 1 Axes>"
            ]
          },
          "metadata": {
            "tags": [],
            "needs_background": "light"
          }
        }
      ]
    },
    {
      "cell_type": "code",
      "metadata": {
        "id": "jN2feSNPEiFU",
        "colab_type": "code",
        "outputId": "8ce33fc8-f151-4368-c0cb-9dc7064d3dba",
        "colab": {
          "base_uri": "https://localhost:8080/",
          "height": 336
        }
      },
      "source": [
        "F_deck_class_2 = pd.DataFrame(data_train['Fare'][(data_train['Pclass'] == 2) & (data_train['Cabin'] == 'F')].value_counts())\n",
        "plt.rcParams[\"figure.figsize\"] = [12, 5]\n",
        "ax = F_deck_class_2.plot.bar(rot=0, title='Fare dispertion on F deck')"
      ],
      "execution_count": 0,
      "outputs": [
        {
          "output_type": "display_data",
          "data": {
            "image/png": "[encoded data removed]",
            "text/plain": [
              "<Figure size 864x360 with 1 Axes>"
            ]
          },
          "metadata": {
            "tags": [],
            "needs_background": "light"
          }
        }
      ]
    },
    {
      "cell_type": "code",
      "metadata": {
        "id": "ZkfvSzggoV8S",
        "colab_type": "code",
        "outputId": "f93e650a-3643-42c3-bbdc-afbe682319cd",
        "colab": {
          "base_uri": "https://localhost:8080/",
          "height": 102
        }
      },
      "source": [
        "data_train['Cabin'][\n",
        "                    (data_train['Pclass']==2) &\n",
        "                    (data_train['Fare'] < 13) & \n",
        "                    (data_train['Cabin'].isna() == True)] = 'E'"
      ],
      "execution_count": 0,
      "outputs": [
        {
          "output_type": "stream",
          "text": [
            "/usr/local/lib/python3.6/dist-packages/ipykernel_launcher.py:4: SettingWithCopyWarning: \n",
            "A value is trying to be set on a copy of a slice from a DataFrame\n",
            "\n",
            "See the caveats in the documentation: https://pandas.pydata.org/pandas-docs/stable/user_guide/indexing.html#returning-a-view-versus-a-copy\n",
            "  after removing the cwd from sys.path.\n"
          ],
          "name": "stderr"
        }
      ]
    },
    {
      "cell_type": "code",
      "metadata": {
        "id": "l-kbFfAkadE7",
        "colab_type": "code",
        "outputId": "b2704fd5-2d8e-451f-d493-136eea637368",
        "colab": {
          "base_uri": "https://localhost:8080/",
          "height": 102
        }
      },
      "source": [
        "data_train['Cabin'][\n",
        "                    (data_train['Pclass']==2) &\n",
        "                    (data_train['Fare'] >= 13) & \n",
        "                    (data_train['Fare'] <= 20) &\n",
        "                    (data_train['Cabin'].isna() == True)] = 'D'"
      ],
      "execution_count": 0,
      "outputs": [
        {
          "output_type": "stream",
          "text": [
            "/usr/local/lib/python3.6/dist-packages/ipykernel_launcher.py:5: SettingWithCopyWarning: \n",
            "A value is trying to be set on a copy of a slice from a DataFrame\n",
            "\n",
            "See the caveats in the documentation: https://pandas.pydata.org/pandas-docs/stable/user_guide/indexing.html#returning-a-view-versus-a-copy\n",
            "  \"\"\"\n"
          ],
          "name": "stderr"
        }
      ]
    },
    {
      "cell_type": "code",
      "metadata": {
        "id": "qzFGfBbeig75",
        "colab_type": "code",
        "outputId": "672c6aba-87c6-4f81-ff1e-424fb0e6ad90",
        "colab": {
          "base_uri": "https://localhost:8080/",
          "height": 102
        }
      },
      "source": [
        "data_train['Cabin'][\n",
        "                    (data_train['Pclass']==2) &\n",
        "                    (data_train['Fare'] > 20) & \n",
        "                    (data_train['Fare'] <= 30) &\n",
        "                    (data_train['Cabin'].isna() == True)] = 'F'"
      ],
      "execution_count": 0,
      "outputs": [
        {
          "output_type": "stream",
          "text": [
            "/usr/local/lib/python3.6/dist-packages/ipykernel_launcher.py:5: SettingWithCopyWarning: \n",
            "A value is trying to be set on a copy of a slice from a DataFrame\n",
            "\n",
            "See the caveats in the documentation: https://pandas.pydata.org/pandas-docs/stable/user_guide/indexing.html#returning-a-view-versus-a-copy\n",
            "  \"\"\"\n"
          ],
          "name": "stderr"
        }
      ]
    },
    {
      "cell_type": "code",
      "metadata": {
        "id": "qwLWPocOo39Y",
        "colab_type": "code",
        "outputId": "607a61f7-a5ff-4037-c80c-1b0a58bf63f2",
        "colab": {
          "base_uri": "https://localhost:8080/",
          "height": 102
        }
      },
      "source": [
        "data_train['Cabin'][\n",
        "                    (data_train['Pclass']==2) &\n",
        "                    (data_train['Cabin'].isna() == True)] = 'D'"
      ],
      "execution_count": 0,
      "outputs": [
        {
          "output_type": "stream",
          "text": [
            "/usr/local/lib/python3.6/dist-packages/ipykernel_launcher.py:3: SettingWithCopyWarning: \n",
            "A value is trying to be set on a copy of a slice from a DataFrame\n",
            "\n",
            "See the caveats in the documentation: https://pandas.pydata.org/pandas-docs/stable/user_guide/indexing.html#returning-a-view-versus-a-copy\n",
            "  This is separate from the ipykernel package so we can avoid doing imports until\n"
          ],
          "name": "stderr"
        }
      ]
    },
    {
      "cell_type": "code",
      "metadata": {
        "id": "eIo-cqZ18YhX",
        "colab_type": "code",
        "outputId": "02777ad0-9d24-4a7c-8489-d6c97eccc4b1",
        "colab": {
          "base_uri": "https://localhost:8080/",
          "height": 34
        }
      },
      "source": [
        "data_train['Age'][\n",
        "                  (data_train['Pclass'] == 2) & \n",
        "                  (data_train['Survived'] == 1) & \n",
        "                  (data_train['Sex'] == 'male')\n",
        "                  ].mean()"
      ],
      "execution_count": 0,
      "outputs": [
        {
          "output_type": "execute_result",
          "data": {
            "text/plain": [
              "16.022"
            ]
          },
          "metadata": {
            "tags": []
          },
          "execution_count": 78
        }
      ]
    },
    {
      "cell_type": "code",
      "metadata": {
        "id": "gnquxFO69Epc",
        "colab_type": "code",
        "outputId": "f1373736-b0f8-42c0-f832-b028f32ff0e5",
        "colab": {
          "base_uri": "https://localhost:8080/",
          "height": 34
        }
      },
      "source": [
        "data_train['Age'][\n",
        "                  (data_train['Pclass'] == 2) & \n",
        "                  (data_train['Survived'] == 0) & \n",
        "                  (data_train['Sex'] == 'male')\n",
        "                  ].mean()"
      ],
      "execution_count": 0,
      "outputs": [
        {
          "output_type": "execute_result",
          "data": {
            "text/plain": [
              "33.36904761904762"
            ]
          },
          "metadata": {
            "tags": []
          },
          "execution_count": 79
        }
      ]
    },
    {
      "cell_type": "code",
      "metadata": {
        "id": "bCAUuVlZ8FL6",
        "colab_type": "code",
        "outputId": "ed982861-cb3e-4653-affc-5c654f8cd5e8",
        "colab": {
          "base_uri": "https://localhost:8080/",
          "height": 34
        }
      },
      "source": [
        "data_train['Age'][\n",
        "                  (data_train['Pclass'] == 2) & \n",
        "                  (data_train['Survived'] == 1) & \n",
        "                  (data_train['Sex'] == 'female')\n",
        "                  ].mean()"
      ],
      "execution_count": 0,
      "outputs": [
        {
          "output_type": "execute_result",
          "data": {
            "text/plain": [
              "28.080882352941178"
            ]
          },
          "metadata": {
            "tags": []
          },
          "execution_count": 80
        }
      ]
    },
    {
      "cell_type": "code",
      "metadata": {
        "id": "PlPsWQi09JLD",
        "colab_type": "code",
        "outputId": "e1a24e3b-218c-4539-ef22-9df1aff00482",
        "colab": {
          "base_uri": "https://localhost:8080/",
          "height": 34
        }
      },
      "source": [
        "data_train['Age'][\n",
        "                  (data_train['Pclass'] == 2) & \n",
        "                  (data_train['Survived'] == 0) & \n",
        "                  (data_train['Sex'] == 'female')\n",
        "                  ].mean()"
      ],
      "execution_count": 0,
      "outputs": [
        {
          "output_type": "execute_result",
          "data": {
            "text/plain": [
              "36.0"
            ]
          },
          "metadata": {
            "tags": []
          },
          "execution_count": 81
        }
      ]
    },
    {
      "cell_type": "code",
      "metadata": {
        "id": "_0bhYka48FO4",
        "colab_type": "code",
        "outputId": "3fffbd71-e504-4c68-aafb-fba10cbf65b2",
        "colab": {
          "base_uri": "https://localhost:8080/",
          "height": 323
        }
      },
      "source": [
        "data_train['Age'][\n",
        "                  (data_train['Pclass'] == 2) & \n",
        "                  (data_train['Survived'] == 1) &\n",
        "                  (data_train['Age'].isnull()) & \n",
        "                  (data_train['Sex'] == 'male')\n",
        "                 ] = 16\n",
        "\n",
        "data_train['Age'][\n",
        "                  (data_train['Pclass'] == 2) & \n",
        "                  (data_train['Survived'] == 0) &\n",
        "                  (data_train['Age'].isnull()) & \n",
        "                  (data_train['Sex'] == 'male') \n",
        "                  ] = 32\n",
        "\n",
        "data_train['Age'][\n",
        "                  (data_train['Pclass'] == 2) & \n",
        "                  (data_train['Survived'] == 1) & \n",
        "                  (data_train['Age'].isnull()) &\n",
        "                  (data_train['Sex'] == 'female')\n",
        "                  ] = 28\n",
        "\n",
        "data_train['Age'][\n",
        "                  (data_train['Pclass'] == 2) & \n",
        "                  (data_train['Survived'] == 0) & \n",
        "                  (data_train['Age'].isnull()) &\n",
        "                  (data_train['Sex'] == 'female')\n",
        "                  ] = 36"
      ],
      "execution_count": 0,
      "outputs": [
        {
          "output_type": "stream",
          "text": [
            "/usr/local/lib/python3.6/dist-packages/ipykernel_launcher.py:6: SettingWithCopyWarning: \n",
            "A value is trying to be set on a copy of a slice from a DataFrame\n",
            "\n",
            "See the caveats in the documentation: https://pandas.pydata.org/pandas-docs/stable/user_guide/indexing.html#returning-a-view-versus-a-copy\n",
            "  \n",
            "/usr/local/lib/python3.6/dist-packages/ipykernel_launcher.py:13: SettingWithCopyWarning: \n",
            "A value is trying to be set on a copy of a slice from a DataFrame\n",
            "\n",
            "See the caveats in the documentation: https://pandas.pydata.org/pandas-docs/stable/user_guide/indexing.html#returning-a-view-versus-a-copy\n",
            "  del sys.path[0]\n",
            "/usr/local/lib/python3.6/dist-packages/ipykernel_launcher.py:20: SettingWithCopyWarning: \n",
            "A value is trying to be set on a copy of a slice from a DataFrame\n",
            "\n",
            "See the caveats in the documentation: https://pandas.pydata.org/pandas-docs/stable/user_guide/indexing.html#returning-a-view-versus-a-copy\n",
            "/usr/local/lib/python3.6/dist-packages/ipykernel_launcher.py:27: SettingWithCopyWarning: \n",
            "A value is trying to be set on a copy of a slice from a DataFrame\n",
            "\n",
            "See the caveats in the documentation: https://pandas.pydata.org/pandas-docs/stable/user_guide/indexing.html#returning-a-view-versus-a-copy\n"
          ],
          "name": "stderr"
        }
      ]
    },
    {
      "cell_type": "code",
      "metadata": {
        "id": "jAHiYO2neh5g",
        "colab_type": "code",
        "outputId": "3946658d-fd41-4e9a-d331-47626e39738c",
        "colab": {
          "base_uri": "https://localhost:8080/",
          "height": 289
        }
      },
      "source": [
        "data_train[data_train['Pclass'] == 2].info()"
      ],
      "execution_count": 0,
      "outputs": [
        {
          "output_type": "stream",
          "text": [
            "<class 'pandas.core.frame.DataFrame'>\n",
            "Int64Index: 178 entries, 9 to 886\n",
            "Data columns (total 9 columns):\n",
            " #   Column    Non-Null Count  Dtype  \n",
            "---  ------    --------------  -----  \n",
            " 0   Survived  178 non-null    int64  \n",
            " 1   Pclass    178 non-null    int64  \n",
            " 2   Sex       178 non-null    object \n",
            " 3   Age       178 non-null    float64\n",
            " 4   SibSp     178 non-null    int64  \n",
            " 5   Parch     178 non-null    int64  \n",
            " 6   Fare      178 non-null    float64\n",
            " 7   Cabin     178 non-null    object \n",
            " 8   Embarked  178 non-null    object \n",
            "dtypes: float64(2), int64(4), object(3)\n",
            "memory usage: 13.9+ KB\n"
          ],
          "name": "stdout"
        }
      ]
    },
    {
      "cell_type": "markdown",
      "metadata": {
        "id": "PyAFXqRm7hA8",
        "colab_type": "text"
      },
      "source": [
        "###3.5. Third class passengers"
      ]
    },
    {
      "cell_type": "code",
      "metadata": {
        "id": "g6h6NoP7pOhT",
        "colab_type": "code",
        "outputId": "bd1a6b15-d759-4782-cfaf-86875123d03c",
        "colab": {
          "base_uri": "https://localhost:8080/",
          "height": 289
        }
      },
      "source": [
        "data_train[data_train['Pclass'] == 3].info()"
      ],
      "execution_count": 0,
      "outputs": [
        {
          "output_type": "stream",
          "text": [
            "<class 'pandas.core.frame.DataFrame'>\n",
            "Int64Index: 487 entries, 0 to 890\n",
            "Data columns (total 9 columns):\n",
            " #   Column    Non-Null Count  Dtype  \n",
            "---  ------    --------------  -----  \n",
            " 0   Survived  487 non-null    int64  \n",
            " 1   Pclass    487 non-null    int64  \n",
            " 2   Sex       487 non-null    object \n",
            " 3   Age       351 non-null    float64\n",
            " 4   SibSp     487 non-null    int64  \n",
            " 5   Parch     487 non-null    int64  \n",
            " 6   Fare      487 non-null    float64\n",
            " 7   Cabin     12 non-null     object \n",
            " 8   Embarked  487 non-null    object \n",
            "dtypes: float64(2), int64(4), object(3)\n",
            "memory usage: 38.0+ KB\n"
          ],
          "name": "stdout"
        }
      ]
    },
    {
      "cell_type": "code",
      "metadata": {
        "id": "fNE_C9rb7kam",
        "colab_type": "code",
        "outputId": "a8b8b2b3-d7af-47b1-e055-05558c12cd93",
        "colab": {
          "base_uri": "https://localhost:8080/",
          "height": 173
        }
      },
      "source": [
        "data_train[(data_train['Pclass'] == 3) & (data_train['Cabin'].isna()== False)].pivot_table(values=['Fare'], index=['Cabin'])"
      ],
      "execution_count": 0,
      "outputs": [
        {
          "output_type": "execute_result",
          "data": {
            "text/html": [
              "<div>\n",
              "<style scoped>\n",
              "    .dataframe tbody tr th:only-of-type {\n",
              "        vertical-align: middle;\n",
              "    }\n",
              "\n",
              "    .dataframe tbody tr th {\n",
              "        vertical-align: top;\n",
              "    }\n",
              "\n",
              "    .dataframe thead th {\n",
              "        text-align: right;\n",
              "    }\n",
              "</style>\n",
              "<table border=\"1\" class=\"dataframe\">\n",
              "  <thead>\n",
              "    <tr style=\"text-align: right;\">\n",
              "      <th></th>\n",
              "      <th>Fare</th>\n",
              "    </tr>\n",
              "    <tr>\n",
              "      <th>Cabin</th>\n",
              "      <th></th>\n",
              "    </tr>\n",
              "  </thead>\n",
              "  <tbody>\n",
              "    <tr>\n",
              "      <th>E</th>\n",
              "      <td>11.00000</td>\n",
              "    </tr>\n",
              "    <tr>\n",
              "      <th>F</th>\n",
              "      <td>10.61166</td>\n",
              "    </tr>\n",
              "    <tr>\n",
              "      <th>G</th>\n",
              "      <td>13.58125</td>\n",
              "    </tr>\n",
              "  </tbody>\n",
              "</table>\n",
              "</div>"
            ],
            "text/plain": [
              "           Fare\n",
              "Cabin          \n",
              "E      11.00000\n",
              "F      10.61166\n",
              "G      13.58125"
            ]
          },
          "metadata": {
            "tags": []
          },
          "execution_count": 85
        }
      ]
    },
    {
      "cell_type": "code",
      "metadata": {
        "id": "F8O7hnp59B-S",
        "colab_type": "code",
        "outputId": "9f67a8fd-5cd2-48a4-ad2f-3926de2a1157",
        "colab": {
          "base_uri": "https://localhost:8080/",
          "height": 336
        }
      },
      "source": [
        "E_deck_class_3 = pd.DataFrame(data_train['Fare'][(data_train['Pclass'] == 3) & (data_train['Cabin'] == 'E')].value_counts())\n",
        "plt.rcParams[\"figure.figsize\"] = [10,5]\n",
        "ax = E_deck_class_3.plot.bar(rot=0, title='Fare dispertion on E deck')"
      ],
      "execution_count": 0,
      "outputs": [
        {
          "output_type": "display_data",
          "data": {
            "image/png": "[encoded data removed]",
            "text/plain": [
              "<Figure size 720x360 with 1 Axes>"
            ]
          },
          "metadata": {
            "tags": [],
            "needs_background": "light"
          }
        }
      ]
    },
    {
      "cell_type": "code",
      "metadata": {
        "id": "we80KM6t9CB8",
        "colab_type": "code",
        "outputId": "ef72d161-73c9-4e3a-fef8-373c6d033bc2",
        "colab": {
          "base_uri": "https://localhost:8080/",
          "height": 336
        }
      },
      "source": [
        "F_deck_class_3 = pd.DataFrame(data_train['Fare'][(data_train['Pclass'] == 3) & (data_train['Cabin'] == 'F')].value_counts())\n",
        "plt.rcParams[\"figure.figsize\"] = [10,5]\n",
        "ax = F_deck_class_3.plot.bar(rot=0, title='Fare dispertion on F deck')"
      ],
      "execution_count": 0,
      "outputs": [
        {
          "output_type": "display_data",
          "data": {
            "image/png": "[encoded data removed]",
            "text/plain": [
              "<Figure size 720x360 with 1 Axes>"
            ]
          },
          "metadata": {
            "tags": [],
            "needs_background": "light"
          }
        }
      ]
    },
    {
      "cell_type": "code",
      "metadata": {
        "id": "qdbPxXxq9CFN",
        "colab_type": "code",
        "outputId": "2dfd33fa-310b-4b01-ad75-36aa2da381c6",
        "colab": {
          "base_uri": "https://localhost:8080/",
          "height": 336
        }
      },
      "source": [
        "G_deck_class_3 = pd.DataFrame(data_train['Fare'][(data_train['Pclass'] == 3) & (data_train['Cabin'] == 'G')].value_counts())\n",
        "plt.rcParams[\"figure.figsize\"] = [10,5]\n",
        "ax = G_deck_class_3.plot.bar(rot=0, title='Fare dispertion on G deck')"
      ],
      "execution_count": 0,
      "outputs": [
        {
          "output_type": "display_data",
          "data": {
            "image/png": "[encoded data removed]",
            "text/plain": [
              "<Figure size 720x360 with 1 Axes>"
            ]
          },
          "metadata": {
            "tags": [],
            "needs_background": "light"
          }
        }
      ]
    },
    {
      "cell_type": "code",
      "metadata": {
        "id": "uwVXLitm7kdp",
        "colab_type": "code",
        "outputId": "bfa67370-6d6e-44c4-8974-3a474806f5f3",
        "colab": {
          "base_uri": "https://localhost:8080/",
          "height": 102
        }
      },
      "source": [
        "data_train['Cabin'][\n",
        "                    (data_train['Pclass']==3) &\n",
        "                    (data_train['Fare'] < 8) & \n",
        "                    (data_train['Cabin'].isna() == True)] = 'F'"
      ],
      "execution_count": 0,
      "outputs": [
        {
          "output_type": "stream",
          "text": [
            "/usr/local/lib/python3.6/dist-packages/ipykernel_launcher.py:4: SettingWithCopyWarning: \n",
            "A value is trying to be set on a copy of a slice from a DataFrame\n",
            "\n",
            "See the caveats in the documentation: https://pandas.pydata.org/pandas-docs/stable/user_guide/indexing.html#returning-a-view-versus-a-copy\n",
            "  after removing the cwd from sys.path.\n"
          ],
          "name": "stderr"
        }
      ]
    },
    {
      "cell_type": "code",
      "metadata": {
        "id": "YxugGWLt7kh8",
        "colab_type": "code",
        "outputId": "a6fb64ef-e448-4adc-90da-622bffc24be0",
        "colab": {
          "base_uri": "https://localhost:8080/",
          "height": 102
        }
      },
      "source": [
        "data_train['Cabin'][\n",
        "                    (data_train['Pclass']==3) &\n",
        "                    (data_train['Fare'] >= 8) & \n",
        "                    (data_train['Fare'] < 12) & \n",
        "                    (data_train['Cabin'].isna() == True)] = 'G'"
      ],
      "execution_count": 0,
      "outputs": [
        {
          "output_type": "stream",
          "text": [
            "/usr/local/lib/python3.6/dist-packages/ipykernel_launcher.py:5: SettingWithCopyWarning: \n",
            "A value is trying to be set on a copy of a slice from a DataFrame\n",
            "\n",
            "See the caveats in the documentation: https://pandas.pydata.org/pandas-docs/stable/user_guide/indexing.html#returning-a-view-versus-a-copy\n",
            "  \"\"\"\n"
          ],
          "name": "stderr"
        }
      ]
    },
    {
      "cell_type": "code",
      "metadata": {
        "id": "yQ1xnlgT7kkX",
        "colab_type": "code",
        "outputId": "8993e5e7-3040-4ae6-f320-c9e205cf6032",
        "colab": {
          "base_uri": "https://localhost:8080/",
          "height": 102
        }
      },
      "source": [
        "data_train['Cabin'][\n",
        "                    (data_train['Pclass']==3) &\n",
        "                    (data_train['Fare'] >= 12) & \n",
        "                    (data_train['Cabin'].isna() == True)] = 'E'"
      ],
      "execution_count": 0,
      "outputs": [
        {
          "output_type": "stream",
          "text": [
            "/usr/local/lib/python3.6/dist-packages/ipykernel_launcher.py:4: SettingWithCopyWarning: \n",
            "A value is trying to be set on a copy of a slice from a DataFrame\n",
            "\n",
            "See the caveats in the documentation: https://pandas.pydata.org/pandas-docs/stable/user_guide/indexing.html#returning-a-view-versus-a-copy\n",
            "  after removing the cwd from sys.path.\n"
          ],
          "name": "stderr"
        }
      ]
    },
    {
      "cell_type": "code",
      "metadata": {
        "id": "vXZc4zr6_CQG",
        "colab_type": "code",
        "outputId": "12b234f6-f477-43b2-c29c-3fb055af49bd",
        "colab": {
          "base_uri": "https://localhost:8080/",
          "height": 34
        }
      },
      "source": [
        "data_train['Age'][\n",
        "                  (data_train['Pclass'] == 3) & \n",
        "                  (data_train['Survived'] == 1) & \n",
        "                  (data_train['Sex'] == 'male')\n",
        "                  ].mean()"
      ],
      "execution_count": 0,
      "outputs": [
        {
          "output_type": "execute_result",
          "data": {
            "text/plain": [
              "22.20054054054054"
            ]
          },
          "metadata": {
            "tags": []
          },
          "execution_count": 97
        }
      ]
    },
    {
      "cell_type": "code",
      "metadata": {
        "id": "a9Wl1fq0_RtC",
        "colab_type": "code",
        "outputId": "ba8c7cf9-0268-4ed5-db5e-8f2b732c8234",
        "colab": {
          "base_uri": "https://localhost:8080/",
          "height": 34
        }
      },
      "source": [
        "data_train['Age'][\n",
        "                  (data_train['Pclass'] == 3) & \n",
        "                  (data_train['Survived'] == 0) & \n",
        "                  (data_train['Sex'] == 'male')\n",
        "                  ].mean()"
      ],
      "execution_count": 0,
      "outputs": [
        {
          "output_type": "execute_result",
          "data": {
            "text/plain": [
              "27.150943396226417"
            ]
          },
          "metadata": {
            "tags": []
          },
          "execution_count": 98
        }
      ]
    },
    {
      "cell_type": "code",
      "metadata": {
        "id": "uhdfR-5x_RwS",
        "colab_type": "code",
        "outputId": "debdd9de-3336-4ea2-a071-4b921b1979d5",
        "colab": {
          "base_uri": "https://localhost:8080/",
          "height": 34
        }
      },
      "source": [
        "data_train['Age'][\n",
        "                  (data_train['Pclass'] == 3) & \n",
        "                  (data_train['Survived'] == 1) & \n",
        "                  (data_train['Sex'] == 'female')\n",
        "                  ].mean()"
      ],
      "execution_count": 0,
      "outputs": [
        {
          "output_type": "execute_result",
          "data": {
            "text/plain": [
              "19.329787234042552"
            ]
          },
          "metadata": {
            "tags": []
          },
          "execution_count": 99
        }
      ]
    },
    {
      "cell_type": "code",
      "metadata": {
        "id": "FVICsGbu_H0k",
        "colab_type": "code",
        "outputId": "0c5ed666-d9eb-4723-838d-caedc59e6046",
        "colab": {
          "base_uri": "https://localhost:8080/",
          "height": 34
        }
      },
      "source": [
        "data_train['Age'][\n",
        "                  (data_train['Pclass'] == 3) & \n",
        "                  (data_train['Survived'] == 0) & \n",
        "                  (data_train['Sex'] == 'female')\n",
        "                  ].mean()"
      ],
      "execution_count": 0,
      "outputs": [
        {
          "output_type": "execute_result",
          "data": {
            "text/plain": [
              "23.818181818181817"
            ]
          },
          "metadata": {
            "tags": []
          },
          "execution_count": 100
        }
      ]
    },
    {
      "cell_type": "code",
      "metadata": {
        "id": "2tzM9f2H_ln7",
        "colab_type": "code",
        "outputId": "61032a72-1730-45d2-be7b-7d5a79528274",
        "colab": {
          "base_uri": "https://localhost:8080/",
          "height": 323
        }
      },
      "source": [
        "data_train['Age'][\n",
        "                  (data_train['Pclass'] == 3) & \n",
        "                  (data_train['Survived'] == 1) &\n",
        "                  (data_train['Age'].isnull()) & \n",
        "                  (data_train['Sex'] == 'male')\n",
        "                 ] = 22.2\n",
        "\n",
        "data_train['Age'][\n",
        "                  (data_train['Pclass'] == 3) & \n",
        "                  (data_train['Survived'] == 0) &\n",
        "                  (data_train['Age'].isnull()) & \n",
        "                  (data_train['Sex'] == 'male') \n",
        "                  ] = 27.1\n",
        "\n",
        "data_train['Age'][\n",
        "                  (data_train['Pclass'] == 3) & \n",
        "                  (data_train['Survived'] == 1) & \n",
        "                  (data_train['Age'].isnull()) &\n",
        "                  (data_train['Sex'] == 'female')\n",
        "                  ] = 19.3\n",
        "\n",
        "data_train['Age'][\n",
        "                  (data_train['Pclass'] == 3) & \n",
        "                  (data_train['Survived'] == 0) & \n",
        "                  (data_train['Age'].isnull()) &\n",
        "                  (data_train['Sex'] == 'female')\n",
        "                  ] = 23.8"
      ],
      "execution_count": 0,
      "outputs": [
        {
          "output_type": "stream",
          "text": [
            "/usr/local/lib/python3.6/dist-packages/ipykernel_launcher.py:6: SettingWithCopyWarning: \n",
            "A value is trying to be set on a copy of a slice from a DataFrame\n",
            "\n",
            "See the caveats in the documentation: https://pandas.pydata.org/pandas-docs/stable/user_guide/indexing.html#returning-a-view-versus-a-copy\n",
            "  \n",
            "/usr/local/lib/python3.6/dist-packages/ipykernel_launcher.py:13: SettingWithCopyWarning: \n",
            "A value is trying to be set on a copy of a slice from a DataFrame\n",
            "\n",
            "See the caveats in the documentation: https://pandas.pydata.org/pandas-docs/stable/user_guide/indexing.html#returning-a-view-versus-a-copy\n",
            "  del sys.path[0]\n",
            "/usr/local/lib/python3.6/dist-packages/ipykernel_launcher.py:20: SettingWithCopyWarning: \n",
            "A value is trying to be set on a copy of a slice from a DataFrame\n",
            "\n",
            "See the caveats in the documentation: https://pandas.pydata.org/pandas-docs/stable/user_guide/indexing.html#returning-a-view-versus-a-copy\n",
            "/usr/local/lib/python3.6/dist-packages/ipykernel_launcher.py:27: SettingWithCopyWarning: \n",
            "A value is trying to be set on a copy of a slice from a DataFrame\n",
            "\n",
            "See the caveats in the documentation: https://pandas.pydata.org/pandas-docs/stable/user_guide/indexing.html#returning-a-view-versus-a-copy\n"
          ],
          "name": "stderr"
        }
      ]
    },
    {
      "cell_type": "code",
      "metadata": {
        "id": "zo38m5ad_H39",
        "colab_type": "code",
        "outputId": "8fb58b44-1adf-4579-9d51-9cb0ee553354",
        "colab": {
          "base_uri": "https://localhost:8080/",
          "height": 289
        }
      },
      "source": [
        "data_train[data_train['Pclass'] == 3].info()"
      ],
      "execution_count": 0,
      "outputs": [
        {
          "output_type": "stream",
          "text": [
            "<class 'pandas.core.frame.DataFrame'>\n",
            "Int64Index: 487 entries, 0 to 890\n",
            "Data columns (total 9 columns):\n",
            " #   Column    Non-Null Count  Dtype  \n",
            "---  ------    --------------  -----  \n",
            " 0   Survived  487 non-null    int64  \n",
            " 1   Pclass    487 non-null    int64  \n",
            " 2   Sex       487 non-null    object \n",
            " 3   Age       487 non-null    float64\n",
            " 4   SibSp     487 non-null    int64  \n",
            " 5   Parch     487 non-null    int64  \n",
            " 6   Fare      487 non-null    float64\n",
            " 7   Cabin     487 non-null    object \n",
            " 8   Embarked  487 non-null    object \n",
            "dtypes: float64(2), int64(4), object(3)\n",
            "memory usage: 38.0+ KB\n"
          ],
          "name": "stdout"
        }
      ]
    },
    {
      "cell_type": "code",
      "metadata": {
        "id": "SQ_Obo55_CTf",
        "colab_type": "code",
        "colab": {}
      },
      "source": [
        ""
      ],
      "execution_count": 0,
      "outputs": []
    },
    {
      "cell_type": "code",
      "metadata": {
        "id": "xCKVZO3QADlI",
        "colab_type": "code",
        "outputId": "7adc13cf-7d44-43b0-eb58-aa4ee1e128a6",
        "colab": {
          "base_uri": "https://localhost:8080/",
          "height": 289
        }
      },
      "source": [
        "data_train.info()"
      ],
      "execution_count": 0,
      "outputs": [
        {
          "output_type": "stream",
          "text": [
            "<class 'pandas.core.frame.DataFrame'>\n",
            "Int64Index: 879 entries, 0 to 890\n",
            "Data columns (total 9 columns):\n",
            " #   Column    Non-Null Count  Dtype  \n",
            "---  ------    --------------  -----  \n",
            " 0   Survived  879 non-null    int64  \n",
            " 1   Pclass    879 non-null    int64  \n",
            " 2   Sex       879 non-null    object \n",
            " 3   Age       879 non-null    float64\n",
            " 4   SibSp     879 non-null    int64  \n",
            " 5   Parch     879 non-null    int64  \n",
            " 6   Fare      879 non-null    float64\n",
            " 7   Cabin     879 non-null    object \n",
            " 8   Embarked  879 non-null    object \n",
            "dtypes: float64(2), int64(4), object(3)\n",
            "memory usage: 68.7+ KB\n"
          ],
          "name": "stdout"
        }
      ]
    },
    {
      "cell_type": "code",
      "metadata": {
        "id": "KNX9FcHTADqO",
        "colab_type": "code",
        "colab": {}
      },
      "source": [
        ""
      ],
      "execution_count": 0,
      "outputs": []
    },
    {
      "cell_type": "markdown",
      "metadata": {
        "id": "Q3tG9H-zB4af",
        "colab_type": "text"
      },
      "source": [
        "## 4 Handling categorical data"
      ]
    },
    {
      "cell_type": "markdown",
      "metadata": {
        "id": "YRGPEWrGCJfD",
        "colab_type": "text"
      },
      "source": [
        "### 4.1 Change data types to numerical"
      ]
    },
    {
      "cell_type": "code",
      "metadata": {
        "id": "3VKNANKFADtu",
        "colab_type": "code",
        "colab": {}
      },
      "source": [
        "Sex_embarked_mapping = {'male':0,'female':1}\n",
        "data_train['Sex'] = data_train['Sex'].map(Sex_embarked_mapping)"
      ],
      "execution_count": 0,
      "outputs": []
    },
    {
      "cell_type": "code",
      "metadata": {
        "id": "XEsaFDebtgrl",
        "colab_type": "code",
        "colab": {}
      },
      "source": [
        "Cabin_embarked_mapping = {'A':0,'B':1, 'C':2, 'D':3, 'E':4, 'F':5, 'G':6}\n",
        "data_train['Cabin'] = data_train['Cabin'].map(Cabin_embarked_mapping)"
      ],
      "execution_count": 0,
      "outputs": []
    },
    {
      "cell_type": "code",
      "metadata": {
        "id": "S1nxh5jjgvR-",
        "colab_type": "code",
        "colab": {}
      },
      "source": [
        "Embarked_embarked_mapping = {'S':0,'C':1,'Q':2}\n",
        "data_train['Embarked'] = data_train['Embarked'].map(Embarked_embarked_mapping)"
      ],
      "execution_count": 0,
      "outputs": []
    },
    {
      "cell_type": "code",
      "metadata": {
        "id": "MgbZ4if6tTXk",
        "colab_type": "code",
        "outputId": "e09174db-ef6a-4012-8804-c7eadbffd73f",
        "colab": {
          "base_uri": "https://localhost:8080/",
          "height": 289
        }
      },
      "source": [
        "data_train.info()"
      ],
      "execution_count": 0,
      "outputs": [
        {
          "output_type": "stream",
          "text": [
            "<class 'pandas.core.frame.DataFrame'>\n",
            "Int64Index: 879 entries, 0 to 890\n",
            "Data columns (total 9 columns):\n",
            " #   Column    Non-Null Count  Dtype  \n",
            "---  ------    --------------  -----  \n",
            " 0   Survived  879 non-null    int64  \n",
            " 1   Pclass    879 non-null    int64  \n",
            " 2   Sex       879 non-null    int64  \n",
            " 3   Age       879 non-null    float64\n",
            " 4   SibSp     879 non-null    int64  \n",
            " 5   Parch     879 non-null    int64  \n",
            " 6   Fare      879 non-null    float64\n",
            " 7   Cabin     879 non-null    int64  \n",
            " 8   Embarked  879 non-null    int64  \n",
            "dtypes: float64(2), int64(7)\n",
            "memory usage: 68.7 KB\n"
          ],
          "name": "stdout"
        }
      ]
    },
    {
      "cell_type": "code",
      "metadata": {
        "id": "1CE8DeInjpaT",
        "colab_type": "code",
        "colab": {}
      },
      "source": [
        "# separete target from feature\n",
        "y = data_train.Survived\n",
        "data_train = data_train.drop(['Survived'], axis=1)"
      ],
      "execution_count": 0,
      "outputs": []
    },
    {
      "cell_type": "markdown",
      "metadata": {
        "id": "AbfrLH-CJp8I",
        "colab_type": "text"
      },
      "source": [
        "### 4.2 One-hot encoding"
      ]
    },
    {
      "cell_type": "code",
      "metadata": {
        "id": "nf3e1_hCyIhB",
        "colab_type": "code",
        "colab": {}
      },
      "source": [
        "OHN_Sex = pd.get_dummies(data_train['Sex'], prefix=\"Sex\", dummy_na=False)\n",
        "OHN_Cabin = pd.get_dummies(data_train['Cabin'], prefix=\"Cabin\", dummy_na=False)\n",
        "OHN_Embarked = pd.get_dummies(data_train['Embarked'], prefix=\"Embarked\", dummy_na=False)"
      ],
      "execution_count": 0,
      "outputs": []
    },
    {
      "cell_type": "code",
      "metadata": {
        "id": "EzKU_6V4xp_p",
        "colab_type": "code",
        "colab": {}
      },
      "source": [
        "data_train_OHN = pd.concat([data_train, OHN_Sex, OHN_Cabin, OHN_Embarked], axis=1)\n",
        "data_train_OHN = data_train_OHN.drop(['Sex', 'Cabin', 'Embarked'], axis=1)"
      ],
      "execution_count": 0,
      "outputs": []
    },
    {
      "cell_type": "code",
      "metadata": {
        "id": "MGtKDxbmMRNV",
        "colab_type": "code",
        "outputId": "77c766be-fce6-4168-8714-7a5a41e448b5",
        "colab": {
          "base_uri": "https://localhost:8080/",
          "height": 425
        }
      },
      "source": [
        "data_train_OHN.info()"
      ],
      "execution_count": 0,
      "outputs": [
        {
          "output_type": "stream",
          "text": [
            "<class 'pandas.core.frame.DataFrame'>\n",
            "Int64Index: 879 entries, 0 to 890\n",
            "Data columns (total 17 columns):\n",
            " #   Column      Non-Null Count  Dtype  \n",
            "---  ------      --------------  -----  \n",
            " 0   Pclass      879 non-null    int64  \n",
            " 1   Age         879 non-null    float64\n",
            " 2   SibSp       879 non-null    int64  \n",
            " 3   Parch       879 non-null    int64  \n",
            " 4   Fare        879 non-null    float64\n",
            " 5   Sex_0       879 non-null    uint8  \n",
            " 6   Sex_1       879 non-null    uint8  \n",
            " 7   Cabin_0     879 non-null    uint8  \n",
            " 8   Cabin_1     879 non-null    uint8  \n",
            " 9   Cabin_2     879 non-null    uint8  \n",
            " 10  Cabin_3     879 non-null    uint8  \n",
            " 11  Cabin_4     879 non-null    uint8  \n",
            " 12  Cabin_5     879 non-null    uint8  \n",
            " 13  Cabin_6     879 non-null    uint8  \n",
            " 14  Embarked_0  879 non-null    uint8  \n",
            " 15  Embarked_1  879 non-null    uint8  \n",
            " 16  Embarked_2  879 non-null    uint8  \n",
            "dtypes: float64(2), int64(3), uint8(12)\n",
            "memory usage: 51.5 KB\n"
          ],
          "name": "stdout"
        }
      ]
    },
    {
      "cell_type": "markdown",
      "metadata": {
        "id": "1tn1XQxvCs5k",
        "colab_type": "text"
      },
      "source": [
        "## 5 Preproce the Data an fit Random Forest Classifier"
      ]
    },
    {
      "cell_type": "code",
      "metadata": {
        "id": "d72nA_jRxqDJ",
        "colab_type": "code",
        "colab": {}
      },
      "source": [
        "scaler_OHN = preprocessing.StandardScaler()\n",
        "data_train_OHN_ST = scaler_OHN.fit_transform(data_train_OHN)"
      ],
      "execution_count": 0,
      "outputs": []
    },
    {
      "cell_type": "code",
      "metadata": {
        "id": "Vvyu3Vdz0LI_",
        "colab_type": "code",
        "colab": {}
      },
      "source": [
        "X_train_OHN, X_test_OHN, y_train_OHN, y_test_OHN = train_test_split(data_train_OHN_ST, y, test_size=0.2, random_state=42)"
      ],
      "execution_count": 0,
      "outputs": []
    },
    {
      "cell_type": "code",
      "metadata": {
        "id": "7v5d_bzNfVPX",
        "colab_type": "code",
        "colab": {}
      },
      "source": [
        "tuned_parameters_RF = [{\n",
        "    'n_estimators': [5, 10, 25, 50, 75, 100, 200, 400, 800],\n",
        "    'criterion': ['gini', 'entropy'],\n",
        "    }]"
      ],
      "execution_count": 0,
      "outputs": []
    },
    {
      "cell_type": "code",
      "metadata": {
        "id": "PbxMOLYqhRYr",
        "colab_type": "code",
        "outputId": "bb7261ab-24b0-4676-f5cf-90cebfc5d911",
        "colab": {
          "base_uri": "https://localhost:8080/",
          "height": 34
        }
      },
      "source": [
        "titanic_model_RF = GridSearchCV(RandomForestClassifier(), tuned_parameters_RF, cv=5)\n",
        "titanic_model_RF.fit(X_train_OHN,y_train_OHN)\n",
        "titanic_model_RF.best_params_"
      ],
      "execution_count": 0,
      "outputs": [
        {
          "output_type": "execute_result",
          "data": {
            "text/plain": [
              "{'criterion': 'entropy', 'n_estimators': 50}"
            ]
          },
          "metadata": {
            "tags": []
          },
          "execution_count": 201
        }
      ]
    },
    {
      "cell_type": "code",
      "metadata": {
        "id": "XsGu12BUhRb1",
        "colab_type": "code",
        "outputId": "0a287c76-e293-41b9-fc4b-221079ab4f8b",
        "colab": {
          "base_uri": "https://localhost:8080/",
          "height": 34
        }
      },
      "source": [
        "np.round(titanic_model_RF.score(X_test_OHN,y_test_OHN), 2)"
      ],
      "execution_count": 0,
      "outputs": [
        {
          "output_type": "execute_result",
          "data": {
            "text/plain": [
              "0.84"
            ]
          },
          "metadata": {
            "tags": []
          },
          "execution_count": 217
        }
      ]
    },
    {
      "cell_type": "markdown",
      "metadata": {
        "id": "A4VN2un5EWxa",
        "colab_type": "text"
      },
      "source": [
        "## 6 Preproce test Data and predict"
      ]
    },
    {
      "cell_type": "code",
      "metadata": {
        "id": "25pjiVAV4EzV",
        "colab_type": "code",
        "outputId": "b27ad169-47d8-4a89-c84f-6915b6dd589b",
        "colab": {
          "base_uri": "https://localhost:8080/",
          "height": 272
        }
      },
      "source": [
        "data_test.info()"
      ],
      "execution_count": 0,
      "outputs": [
        {
          "output_type": "stream",
          "text": [
            "<class 'pandas.core.frame.DataFrame'>\n",
            "RangeIndex: 418 entries, 0 to 417\n",
            "Data columns (total 8 columns):\n",
            " #   Column    Non-Null Count  Dtype  \n",
            "---  ------    --------------  -----  \n",
            " 0   Pclass    418 non-null    int64  \n",
            " 1   Sex       418 non-null    object \n",
            " 2   Age       332 non-null    float64\n",
            " 3   SibSp     418 non-null    int64  \n",
            " 4   Parch     418 non-null    int64  \n",
            " 5   Fare      417 non-null    float64\n",
            " 6   Cabin     91 non-null     object \n",
            " 7   Embarked  418 non-null    object \n",
            "dtypes: float64(2), int64(3), object(3)\n",
            "memory usage: 26.2+ KB\n"
          ],
          "name": "stdout"
        }
      ]
    },
    {
      "cell_type": "code",
      "metadata": {
        "id": "avZeziXwc9Us",
        "colab_type": "code",
        "outputId": "d823db38-de59-4573-acea-3f2b30d72224",
        "colab": {
          "base_uri": "https://localhost:8080/",
          "height": 102
        }
      },
      "source": [
        "data_test['Cabin'][data_test['Cabin'].isna() == False] = data_test['Cabin'].str[0]"
      ],
      "execution_count": 0,
      "outputs": [
        {
          "output_type": "stream",
          "text": [
            "/usr/local/lib/python3.6/dist-packages/ipykernel_launcher.py:1: SettingWithCopyWarning: \n",
            "A value is trying to be set on a copy of a slice from a DataFrame\n",
            "\n",
            "See the caveats in the documentation: https://pandas.pydata.org/pandas-docs/stable/user_guide/indexing.html#returning-a-view-versus-a-copy\n",
            "  \"\"\"Entry point for launching an IPython kernel.\n"
          ],
          "name": "stderr"
        }
      ]
    },
    {
      "cell_type": "code",
      "metadata": {
        "id": "xJEWRM-HNZ8Y",
        "colab_type": "code",
        "outputId": "64e9a8fd-34b0-4904-d17f-ed1d96ef51fc",
        "colab": {
          "base_uri": "https://localhost:8080/",
          "height": 153
        }
      },
      "source": [
        "data_test.Cabin.value_counts()"
      ],
      "execution_count": 0,
      "outputs": [
        {
          "output_type": "execute_result",
          "data": {
            "text/plain": [
              "C    35\n",
              "B    18\n",
              "D    13\n",
              "E     9\n",
              "F     8\n",
              "A     7\n",
              "G     1\n",
              "Name: Cabin, dtype: int64"
            ]
          },
          "metadata": {
            "tags": []
          },
          "execution_count": 205
        }
      ]
    },
    {
      "cell_type": "code",
      "metadata": {
        "id": "mWbd1C9jE-nM",
        "colab_type": "code",
        "colab": {}
      },
      "source": [
        "def prepare_dataset(dataset_name):\n",
        "\n",
        "  Sex_embarked_mapping = {'male':0,'female':1}\n",
        "  dataset_name['Sex'] = dataset_name['Sex'].map(Sex_embarked_mapping)\n",
        "  \n",
        "  \n",
        "\n",
        "  dataset_name['Cabin'].loc[(dataset_name['Pclass']==3) & (dataset_name['Sex']==0) & (test['Cabin'].isna() == True)] = 'G'\n",
        "  dataset_name['Cabin'].loc[(dataset_name['Pclass']==3) & (dataset_name['Sex']==1) & (test['Cabin'].isna() == True)] = 'G'\n",
        "  \n",
        "  \n",
        "  dataset_name['Cabin'].loc[(dataset_name['Pclass']==2) & (dataset_name['Sex']==0) & (test['Cabin'].isna() == True)] = 'E'\n",
        "  dataset_name['Cabin'].loc[(dataset_name['Pclass']==2) & (dataset_name['Sex']==1) & (test['Cabin'].isna() == True)] = 'F'\n",
        "\n",
        "  dataset_name['Cabin'].loc[(dataset_name['Pclass']==2) & (dataset_name['Sex']==0) & (dataset_name['Age'] < 36) & (test['Cabin'].isna() == True)] = 'C'\n",
        "  dataset_name['Cabin'].loc[(dataset_name['Pclass']==2) & (dataset_name['Sex']==1) & (dataset_name['Age'] < 38) & (test['Cabin'].isna() == True)] = 'B'\n",
        "\n",
        "  \n",
        "  dataset_name['Cabin'].loc[(dataset_name['Pclass']==1) & (dataset_name['Sex']==0) & (test['Cabin'].isna() == True)] = 'B'\n",
        "  dataset_name['Cabin'].loc[(dataset_name['Pclass']==1) & (dataset_name['Sex']==1) & (test['Cabin'].isna() == True)] = 'A'\n",
        "\n",
        "  Cabin_embarked_mapping = {'A':0,'B':1, 'C':2, 'D':3, 'E':4, 'F':5, 'G':6}\n",
        "  dataset_name['Cabin'] = dataset_name['Cabin'].map(Cabin_embarked_mapping)\n",
        "\n",
        "  Embarked_embarked_mapping = {'S':0,'C':1,'Q':2}\n",
        "  dataset_name['Embarked'] = dataset_name['Embarked'].map(Embarked_embarked_mapping)\n",
        "\n",
        "  dataset_name['Age'].loc[(dataset_name['Age'].isna())] = dataset_name['Age'].mean()\n",
        "  dataset_name['Fare'].loc[(dataset_name['Fare'].isna())] = dataset_name['Fare'].mean()\n",
        "  \n",
        "  print(dataset_name.shape)\n",
        "\n",
        "  OHN_Sex = pd.get_dummies(dataset_name['Sex'], prefix=\"Sex\", dummy_na=False)\n",
        "  OHN_Cabin = pd.get_dummies(dataset_name['Cabin'], prefix=\"Cabin\", dummy_na=False)\n",
        "  OHN_Embarked = pd.get_dummies(dataset_name['Embarked'], prefix=\"Embarked\", dummy_na=False)\n",
        "  \n",
        "  dataset_name = pd.concat([dataset_name, OHN_Sex, OHN_Cabin, OHN_Embarked], axis=1)\n",
        "  \n",
        "  print(dataset_name.shape)\n",
        "  \n",
        "  dataset_name = dataset_name.drop(['Sex', 'Cabin', 'Embarked'], axis=1)\n",
        "\n",
        "  print(dataset_name.shape)\n",
        "\n",
        "  scaler_OHN = preprocessing.StandardScaler()\n",
        "  dataset_name = scaler_OHN.fit_transform(dataset_name)\n",
        "\n",
        "\n",
        "\n",
        "  return dataset_name\n",
        " "
      ],
      "execution_count": 0,
      "outputs": []
    },
    {
      "cell_type": "code",
      "metadata": {
        "id": "VkqugJmwB4mh",
        "colab_type": "code",
        "outputId": "2dbe957a-881f-4c5b-e6a6-6a034a1b0191",
        "colab": {
          "base_uri": "https://localhost:8080/",
          "height": 612
        }
      },
      "source": [
        "test = prepare_dataset(data_test)"
      ],
      "execution_count": 0,
      "outputs": [
        {
          "output_type": "stream",
          "text": [
            "/usr/local/lib/python3.6/dist-packages/ipykernel_launcher.py:6: SettingWithCopyWarning: \n",
            "A value is trying to be set on a copy of a slice from a DataFrame\n",
            "\n",
            "See the caveats in the documentation: https://pandas.pydata.org/pandas-docs/stable/user_guide/indexing.html#returning-a-view-versus-a-copy\n",
            "  \n",
            "/usr/local/lib/python3.6/dist-packages/ipykernel_launcher.py:12: SettingWithCopyWarning: \n",
            "A value is trying to be set on a copy of a slice from a DataFrame\n",
            "\n",
            "See the caveats in the documentation: https://pandas.pydata.org/pandas-docs/stable/user_guide/indexing.html#returning-a-view-versus-a-copy\n",
            "  if sys.path[0] == '':\n",
            "/usr/local/lib/python3.6/dist-packages/ipykernel_launcher.py:17: SettingWithCopyWarning: \n",
            "A value is trying to be set on a copy of a slice from a DataFrame\n",
            "\n",
            "See the caveats in the documentation: https://pandas.pydata.org/pandas-docs/stable/user_guide/indexing.html#returning-a-view-versus-a-copy\n",
            "/usr/local/lib/python3.6/dist-packages/ipykernel_launcher.py:22: SettingWithCopyWarning: \n",
            "A value is trying to be set on a copy of a slice from a DataFrame\n",
            "\n",
            "See the caveats in the documentation: https://pandas.pydata.org/pandas-docs/stable/user_guide/indexing.html#returning-a-view-versus-a-copy\n",
            "/usr/local/lib/python3.6/dist-packages/ipykernel_launcher.py:28: SettingWithCopyWarning: \n",
            "A value is trying to be set on a copy of a slice from a DataFrame\n",
            "\n",
            "See the caveats in the documentation: https://pandas.pydata.org/pandas-docs/stable/user_guide/indexing.html#returning-a-view-versus-a-copy\n",
            "/usr/local/lib/python3.6/dist-packages/ipykernel_launcher.py:34: SettingWithCopyWarning: \n",
            "A value is trying to be set on a copy of a slice from a DataFrame\n",
            "\n",
            "See the caveats in the documentation: https://pandas.pydata.org/pandas-docs/stable/user_guide/indexing.html#returning-a-view-versus-a-copy\n",
            "/usr/local/lib/python3.6/dist-packages/ipykernel_launcher.py:38: SettingWithCopyWarning: \n",
            "A value is trying to be set on a copy of a slice from a DataFrame\n",
            "\n",
            "See the caveats in the documentation: https://pandas.pydata.org/pandas-docs/stable/user_guide/indexing.html#returning-a-view-versus-a-copy\n",
            "/usr/local/lib/python3.6/dist-packages/pandas/core/indexing.py:671: SettingWithCopyWarning: \n",
            "A value is trying to be set on a copy of a slice from a DataFrame\n",
            "\n",
            "See the caveats in the documentation: https://pandas.pydata.org/pandas-docs/stable/user_guide/indexing.html#returning-a-view-versus-a-copy\n",
            "  self._setitem_with_indexer(indexer, value)\n"
          ],
          "name": "stderr"
        }
      ]
    },
    {
      "cell_type": "code",
      "metadata": {
        "id": "WRhWOzD5D4-Z",
        "colab_type": "code",
        "colab": {}
      },
      "source": [
        "scaler_OHN_test = preprocessing.StandardScaler()\n",
        "data_train_OHN_ST_test = scaler_OHN.fit_transform(test)"
      ],
      "execution_count": 0,
      "outputs": []
    },
    {
      "cell_type": "code",
      "metadata": {
        "id": "EKGxbpTCEHix",
        "colab_type": "code",
        "colab": {}
      },
      "source": [
        "predicted_test_dataset = titanic_model_RF.predict(data_train_OHN_ST_test)"
      ],
      "execution_count": 0,
      "outputs": []
    },
    {
      "cell_type": "code",
      "metadata": {
        "id": "5OV7ZkmWEHuS",
        "colab_type": "code",
        "outputId": "d9c622f8-e21c-4e97-ce71-44477968915f",
        "colab": {
          "base_uri": "https://localhost:8080/",
          "height": 340
        }
      },
      "source": [
        "predicted_test_dataset"
      ],
      "execution_count": 0,
      "outputs": [
        {
          "output_type": "execute_result",
          "data": {
            "text/plain": [
              "array([0, 0, 0, 0, 1, 0, 0, 0, 1, 0, 0, 0, 1, 0, 1, 1, 0, 1, 0, 0, 0, 0,\n",
              "       1, 0, 1, 0, 1, 1, 1, 0, 0, 0, 1, 0, 0, 1, 0, 0, 0, 0, 0, 0, 0, 1,\n",
              "       1, 0, 1, 0, 1, 0, 0, 0, 1, 1, 0, 0, 0, 0, 0, 1, 0, 1, 0, 1, 1, 1,\n",
              "       1, 0, 0, 1, 1, 0, 0, 0, 1, 0, 0, 1, 0, 1, 1, 0, 0, 0, 0, 0, 0, 1,\n",
              "       0, 1, 1, 0, 1, 0, 0, 0, 1, 0, 0, 0, 1, 0, 0, 0, 1, 0, 0, 0, 0, 0,\n",
              "       0, 0, 1, 1, 1, 0, 0, 1, 0, 1, 1, 0, 1, 0, 0, 1, 0, 0, 0, 0, 0, 0,\n",
              "       0, 0, 0, 0, 0, 0, 0, 0, 0, 1, 1, 0, 0, 0, 1, 0, 0, 0, 1, 1, 0, 0,\n",
              "       0, 0, 1, 1, 0, 0, 0, 1, 1, 0, 0, 1, 0, 0, 1, 0, 0, 0, 0, 0, 0, 1,\n",
              "       1, 0, 1, 1, 0, 0, 1, 0, 1, 0, 1, 0, 0, 0, 0, 0, 1, 0, 1, 0, 1, 1,\n",
              "       0, 0, 0, 1, 0, 1, 0, 0, 0, 0, 1, 0, 0, 0, 0, 1, 0, 0, 0, 0, 1, 0,\n",
              "       1, 0, 1, 0, 1, 1, 0, 0, 0, 0, 0, 1, 0, 1, 0, 0, 0, 1, 1, 1, 1, 1,\n",
              "       0, 0, 0, 1, 1, 0, 1, 0, 1, 0, 0, 0, 0, 0, 0, 0, 1, 0, 0, 0, 1, 1,\n",
              "       0, 0, 0, 0, 0, 0, 0, 0, 1, 0, 0, 1, 0, 0, 0, 0, 0, 1, 0, 0, 1, 0,\n",
              "       0, 0, 0, 0, 0, 0, 0, 1, 0, 0, 1, 0, 0, 0, 0, 0, 0, 0, 0, 1, 0, 1,\n",
              "       0, 0, 0, 1, 0, 0, 1, 1, 1, 0, 0, 0, 0, 0, 0, 0, 1, 0, 1, 0, 0, 0,\n",
              "       1, 1, 0, 0, 0, 0, 1, 0, 0, 0, 0, 0, 0, 1, 0, 1, 0, 0, 0, 1, 1, 0,\n",
              "       0, 0, 1, 0, 1, 0, 0, 0, 0, 1, 1, 0, 1, 0, 0, 0, 1, 0, 0, 1, 0, 0,\n",
              "       1, 1, 0, 0, 0, 0, 0, 0, 1, 1, 0, 1, 0, 0, 0, 0, 0, 1, 1, 0, 0, 1,\n",
              "       0, 1, 0, 0, 1, 0, 1, 0, 0, 0, 0, 0, 0, 1, 0, 1, 0, 0, 1, 0, 0, 0])"
            ]
          },
          "metadata": {
            "tags": []
          },
          "execution_count": 210
        }
      ]
    },
    {
      "cell_type": "code",
      "metadata": {
        "id": "TOxtTQbtCvlR",
        "colab_type": "code",
        "colab": {}
      },
      "source": [
        "test_survived = pd.DataFrame(predicted_test_dataset, columns=['Survived'])"
      ],
      "execution_count": 0,
      "outputs": []
    },
    {
      "cell_type": "code",
      "metadata": {
        "id": "Wcse3P2I1P5l",
        "colab_type": "code",
        "colab": {}
      },
      "source": [
        "submission = data_test_id.join(test_survived)"
      ],
      "execution_count": 0,
      "outputs": []
    },
    {
      "cell_type": "code",
      "metadata": {
        "id": "-2NDrAYZC8wq",
        "colab_type": "code",
        "colab": {}
      },
      "source": [
        "submission.to_csv(\"titanic_submission.csv\", index=False)"
      ],
      "execution_count": 0,
      "outputs": []
    }
  ]
}